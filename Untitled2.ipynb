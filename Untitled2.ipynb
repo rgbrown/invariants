{
 "cells": [
  {
   "cell_type": "code",
   "execution_count": 5,
   "metadata": {
    "collapsed": true
   },
   "outputs": [],
   "source": [
    "from sympy import *\n",
    "init_printing()"
   ]
  },
  {
   "cell_type": "code",
   "execution_count": 24,
   "metadata": {
    "collapsed": false
   },
   "outputs": [
    {
     "data": {
      "image/png": "[encoded data removed]",
      "text/latex": [
       "$$\\frac{a}{g x + h y + 1} - \\frac{g \\left(a x + b y\\right)}{\\left(g x + h y + 1\\right)^{2}}$$"
      ],
      "text/plain": [
       "      a          g⋅(a⋅x + b⋅y)  \n",
       "───────────── - ────────────────\n",
       "g⋅x + h⋅y + 1                  2\n",
       "                (g⋅x + h⋅y + 1) "
      ]
     },
     "execution_count": 24,
     "metadata": {},
     "output_type": "execute_result"
    }
   ],
   "source": [
    "a, b, c, d, g, h = symbols('a b c d g h')\n",
    "x, y = symbols('x y')\n",
    "\n",
    "Fx = (a*x + b*y) / (1 + g*x + h*y)\n",
    "Fy = (c*x + d*y) / (1 + g*x + h*y)\n",
    "\n",
    "diff(Fx, x)"
   ]
  }
 ],
 "metadata": {
  "anaconda-cloud": {},
  "kernelspec": {
   "display_name": "Python [Root]",
   "language": "python",
   "name": "Python [Root]"
  },
  "language_info": {
   "codemirror_mode": {
    "name": "ipython",
    "version": 3
   },
   "file_extension": ".py",
   "mimetype": "text/x-python",
   "name": "python",
   "nbconvert_exporter": "python",
   "pygments_lexer": "ipython3",
   "version": "3.5.2"
  }
 },
 "nbformat": 4,
 "nbformat_minor": 0
}
