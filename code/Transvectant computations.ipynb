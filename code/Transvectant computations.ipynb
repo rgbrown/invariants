{
 "cells": [
  {
   "cell_type": "markdown",
   "metadata": {},
   "source": [
    "# Transvectant computations"
   ]
  },
  {
   "cell_type": "code",
   "execution_count": 1,
   "metadata": {},
   "outputs": [],
   "source": [
    "from sympy import Function, Symbol, symbols, init_printing\n",
    "from IPython.display import Math, display\n",
    "\n",
    "init_printing()\n",
    "from transvectants import *\n",
    "\n",
    "def disp(expr):\n",
    "    display(Math(my_latex(expr)))"
   ]
  },
  {
   "cell_type": "code",
   "execution_count": 61,
   "metadata": {},
   "outputs": [],
   "source": [
    "x, y = symbols('x y')\n",
    "f = Function('f')(x, y)"
   ]
  },
  {
   "cell_type": "code",
   "execution_count": 62,
   "metadata": {},
   "outputs": [
    {
     "data": {
      "text/latex": [
       "$$2 f_{xx} f_{yy} - 2 \\left(f_{xy}\\right)^{2}$$"
      ],
      "text/plain": [
       "<IPython.core.display.Math object>"
      ]
     },
     "metadata": {},
     "output_type": "display_data"
    },
    {
     "data": {
      "text/latex": [
       "$$\\left(f_{x}\\right)^{2} f_{yy} - 2 f_{x} f_{y} f_{xy} + \\left(f_{y}\\right)^{2} f_{xx}$$"
      ],
      "text/plain": [
       "<IPython.core.display.Math object>"
      ]
     },
     "metadata": {},
     "output_type": "display_data"
    },
    {
     "data": {
      "text/latex": [
       "$$- 2 \\left(f_{xx} f_{xyy} - 2 f_{xy} f_{xxy} + f_{yy} f_{xxx}\\right) f_{y} + 2 \\left(f_{xx} f_{yyy} - 2 f_{xy} f_{xyy} + f_{yy} f_{xxy}\\right) f_{x}$$"
      ],
      "text/plain": [
       "<IPython.core.display.Math object>"
      ]
     },
     "metadata": {},
     "output_type": "display_data"
    }
   ],
   "source": [
    "C = transvectant(f, f, 2)\n",
    "D = -partial_transvectant((f, f, f), [[0, 1], [1, 2]])\n",
    "I1 = C\n",
    "I2 = D\n",
    "# I3 = ?\n",
    "I4 = transvectant(f, C, 1)\n",
    "disp(C)\n",
    "disp(D)\n",
    "disp(I4)"
   ]
  },
  {
   "cell_type": "code",
   "execution_count": 60,
   "metadata": {},
   "outputs": [
    {
     "data": {
      "text/latex": [
       "$$4 \\left(\\left(f_{xx} f_{xyy} - 2 f_{xy} f_{xxy} + f_{yy} f_{xxx}\\right) f_{y} - \\left(f_{xx} f_{yyy} - 2 f_{xy} f_{xyy} + f_{yy} f_{xxy}\\right) f_{x}\\right) f{\\left (x,y \\right )}$$"
      ],
      "text/plain": [
       "<IPython.core.display.Math object>"
      ]
     },
     "metadata": {},
     "output_type": "display_data"
    }
   ],
   "source": [
    "#disp(transvectant(C, C, 2))\n",
    "funcs = (C, f**2)\n",
    "pairs = [[0, 1]]\n",
    "disp(partial_transvectant(funcs, pairs))"
   ]
  }
 ],
 "metadata": {
  "kernelspec": {
   "display_name": "Python 3",
   "language": "python",
   "name": "python3"
  },
  "language_info": {
   "codemirror_mode": {
    "name": "ipython",
    "version": 3
   },
   "file_extension": ".py",
   "mimetype": "text/x-python",
   "name": "python",
   "nbconvert_exporter": "python",
   "pygments_lexer": "ipython3",
   "version": "3.6.5"
  }
 },
 "nbformat": 4,
 "nbformat_minor": 2
}
