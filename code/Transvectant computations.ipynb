{
 "cells": [
  {
   "cell_type": "markdown",
   "metadata": {},
   "source": [
    "# Transvectant computations"
   ]
  },
  {
   "cell_type": "code",
   "execution_count": 9,
   "metadata": {},
   "outputs": [],
   "source": [
    "from sympy import Function, Symbol, symbols, init_printing, expand\n",
    "from IPython.display import Math, display\n",
    "\n",
    "init_printing()\n",
    "from transvectants import *\n",
    "\n",
    "def disp(expr):\n",
    "    display(Math(my_latex(expr)))"
   ]
  },
  {
   "cell_type": "code",
   "execution_count": 10,
   "metadata": {},
   "outputs": [],
   "source": [
    "x, y = symbols('x y')\n",
    "f = Function('f')(x, y)"
   ]
  },
  {
   "cell_type": "code",
   "execution_count": 15,
   "metadata": {
    "scrolled": false
   },
   "outputs": [
    {
     "name": "stdout",
     "output_type": "stream",
     "text": [
      "weight 3:\n",
      "weight 4:\n",
      "weight 2\n"
     ]
    },
    {
     "data": {
      "text/latex": [
       "$\\displaystyle 2 f_{xx} f_{yy} - 2 \\left(f_{xy}\\right)^{2}$"
      ],
      "text/plain": [
       "<IPython.core.display.Math object>"
      ]
     },
     "metadata": {},
     "output_type": "display_data"
    },
    {
     "data": {
      "text/latex": [
       "$\\displaystyle - \\left(f_{x}\\right)^{2} f_{yy} + 2 f_{x} f_{y} f_{xy} - f_{xx} \\left(f_{y}\\right)^{2}$"
      ],
      "text/plain": [
       "<IPython.core.display.Math object>"
      ]
     },
     "metadata": {},
     "output_type": "display_data"
    },
    {
     "name": "stdout",
     "output_type": "stream",
     "text": [
      "weight 3\n"
     ]
    },
    {
     "data": {
      "text/latex": [
       "$\\displaystyle - \\left(f_{xx} f_{yyy} + f_{yy} f_{xxy} - 2 f_{xy} f_{xyy}\\right) f_{x} + \\left(f_{xx} f_{xyy} + f_{xxx} f_{yy} - 2 f_{xy} f_{xxy}\\right) f_{y}$"
      ],
      "text/plain": [
       "<IPython.core.display.Math object>"
      ]
     },
     "metadata": {},
     "output_type": "display_data"
    },
    {
     "data": {
      "text/latex": [
       "$\\displaystyle - \\left(f_{x}\\right)^{3} f_{yyy} + 3 \\left(f_{x}\\right)^{2} f_{y} f_{xyy} - 3 f_{x} \\left(f_{y}\\right)^{2} f_{xxy} + f_{xxx} \\left(f_{y}\\right)^{3}$"
      ],
      "text/plain": [
       "<IPython.core.display.Math object>"
      ]
     },
     "metadata": {},
     "output_type": "display_data"
    },
    {
     "name": "stdout",
     "output_type": "stream",
     "text": [
      "weight 4\n"
     ]
    },
    {
     "data": {
      "text/latex": [
       "$\\displaystyle 2 f_{xx} f_{yyy} f_{xxy} - 2 f_{xx} \\left(f_{xyy}\\right)^{2} + 2 f_{xxx} f_{yy} f_{xyy} - 2 f_{xxx} f_{yyy} f_{xy} - 2 f_{yy} \\left(f_{xxy}\\right)^{2} + 2 f_{xy} f_{xyy} f_{xxy}$"
      ],
      "text/plain": [
       "<IPython.core.display.Math object>"
      ]
     },
     "metadata": {},
     "output_type": "display_data"
    },
    {
     "name": "stdout",
     "output_type": "stream",
     "text": [
      "\n"
     ]
    },
    {
     "data": {
      "text/latex": [
       "$\\displaystyle - f_{x} f_{xx} f_{yy} f_{xyy} + f_{x} f_{xx} f_{yyy} f_{xy} - f_{x} f_{xxx} \\left(f_{yy}\\right)^{2} + 3 f_{x} f_{yy} f_{xy} f_{xxy} - 2 f_{x} \\left(f_{xy}\\right)^{2} f_{xyy} - \\left(f_{xx}\\right)^{2} f_{y} f_{yyy} - f_{xx} f_{y} f_{yy} f_{xxy} + 3 f_{xx} f_{y} f_{xy} f_{xyy} + f_{xxx} f_{y} f_{yy} f_{xy} - 2 f_{y} \\left(f_{xy}\\right)^{2} f_{xxy}$"
      ],
      "text/plain": [
       "<IPython.core.display.Math object>"
      ]
     },
     "metadata": {},
     "output_type": "display_data"
    },
    {
     "name": "stdout",
     "output_type": "stream",
     "text": [
      "\n"
     ]
    },
    {
     "data": {
      "text/latex": [
       "$\\displaystyle 2 \\left(f_{xx}\\right)^{2} \\left(f_{yy}\\right)^{2} - 4 f_{xx} f_{yy} \\left(f_{xy}\\right)^{2} + 2 \\left(f_{xy}\\right)^{4}$"
      ],
      "text/plain": [
       "<IPython.core.display.Math object>"
      ]
     },
     "metadata": {},
     "output_type": "display_data"
    },
    {
     "name": "stdout",
     "output_type": "stream",
     "text": [
      "\n"
     ]
    },
    {
     "data": {
      "text/latex": [
       "$\\displaystyle - 2 \\left(f_{x}\\right)^{2} f_{yyy} f_{xxy} + 2 \\left(f_{x}\\right)^{2} \\left(f_{xyy}\\right)^{2} + 2 f_{x} f_{xxx} f_{y} f_{yyy} - 2 f_{x} f_{y} f_{xyy} f_{xxy} - 2 f_{xxx} \\left(f_{y}\\right)^{2} f_{xyy} + 2 \\left(f_{y}\\right)^{2} \\left(f_{xxy}\\right)^{2}$"
      ],
      "text/plain": [
       "<IPython.core.display.Math object>"
      ]
     },
     "metadata": {},
     "output_type": "display_data"
    },
    {
     "name": "stdout",
     "output_type": "stream",
     "text": [
      "\n"
     ]
    },
    {
     "data": {
      "text/latex": [
       "$\\displaystyle \\left(f_{x}\\right)^{2} f_{xx} \\left(f_{yy}\\right)^{2} - \\left(f_{x}\\right)^{2} f_{yy} \\left(f_{xy}\\right)^{2} - 2 f_{x} f_{xx} f_{y} f_{yy} f_{xy} + 2 f_{x} f_{y} \\left(f_{xy}\\right)^{3} + \\left(f_{xx}\\right)^{2} \\left(f_{y}\\right)^{2} f_{yy} - f_{xx} \\left(f_{y}\\right)^{2} \\left(f_{xy}\\right)^{2}$"
      ],
      "text/plain": [
       "<IPython.core.display.Math object>"
      ]
     },
     "metadata": {},
     "output_type": "display_data"
    },
    {
     "name": "stdout",
     "output_type": "stream",
     "text": [
      "\n"
     ]
    },
    {
     "data": {
      "text/latex": [
       "$\\displaystyle - \\left(f_{x}\\right)^{3} f_{yy} f_{xyy} + \\left(f_{x}\\right)^{3} f_{yyy} f_{xy} - \\left(f_{x}\\right)^{2} f_{xx} f_{y} f_{yyy} + 2 \\left(f_{x}\\right)^{2} f_{y} f_{yy} f_{xxy} - \\left(f_{x}\\right)^{2} f_{y} f_{xy} f_{xyy} + 2 f_{x} f_{xx} \\left(f_{y}\\right)^{2} f_{xyy} - f_{x} f_{xxx} \\left(f_{y}\\right)^{2} f_{yy} - f_{x} \\left(f_{y}\\right)^{2} f_{xy} f_{xxy} - f_{xx} \\left(f_{y}\\right)^{3} f_{xxy} + f_{xxx} \\left(f_{y}\\right)^{3} f_{xy}$"
      ],
      "text/plain": [
       "<IPython.core.display.Math object>"
      ]
     },
     "metadata": {},
     "output_type": "display_data"
    },
    {
     "name": "stdout",
     "output_type": "stream",
     "text": [
      "\n"
     ]
    },
    {
     "data": {
      "text/latex": [
       "$\\displaystyle \\left(f_{x}\\right)^{4} f_{yyyy} - 4 \\left(f_{x}\\right)^{3} f_{y} f_{xyyy} + 6 \\left(f_{x}\\right)^{2} \\left(f_{y}\\right)^{2} f_{xxyy} - 4 f_{x} \\left(f_{y}\\right)^{3} f_{xxxy} + f_{xxxx} \\left(f_{y}\\right)^{4}$"
      ],
      "text/plain": [
       "<IPython.core.display.Math object>"
      ]
     },
     "metadata": {},
     "output_type": "display_data"
    }
   ],
   "source": [
    "#C = transvectant(f, f, 2)\n",
    "#D = -partial_transvectant((f, f, f), [[0, 1], [1, 2]])\n",
    "# We are going to build these by weight, not degree. \n",
    "# Hence order does not match dispaper\n",
    "# Weight 4 (2 of 'em)\n",
    "\n",
    "I4_1 = partial_transvectant((f,f),[[0,1],[0,1]]) # = C\n",
    "I4_2 = partial_transvectant((f, f, f), [[0, 1], [1, 2]]) # = -D\n",
    "\n",
    "# Weight 6 (2 of 'em)\n",
    "print('weight 3:')\n",
    "I6_1 = partial_transvectant((f,f,f),[[0,1],[0,1],[0,2]]) # = transvectant(f, C, 1)\n",
    "I6_2 = partial_transvectant((f,f,f,f),[[0,1],[0,2],[0,3]])\n",
    "\n",
    "# Weight 8 (7 of 'em??)\n",
    "print('weight 4:')\n",
    "I8_1 = expand(partial_transvectant((f,f,f),[[0,1],[0,1],[1,2],[0,2]]))\n",
    "I8_2 = expand(partial_transvectant((f,f,f,f),[[0,1],[0,1],[1,2],[2,3]]))\n",
    "I8_3 = expand(partial_transvectant((f,f,f,f),[[0,1],[1,2],[2,3],[3,0]]))\n",
    "I8_4 = expand(partial_transvectant((f,f,f,f),[[0,1],[1,2],[1,2],[2,3]]))\n",
    "\n",
    "I8_5 = expand(partial_transvectant((f,f,f,f,f),[[0,1],[1,2],[2,3],[3,4]]))\n",
    "I8_6 = expand(partial_transvectant((f,f,f,f,f),[[0,1],[0,2],[0,3],[3,4]]))\n",
    "I8_7 = expand(partial_transvectant((f,f,f,f,f),[[0,1],[0,2],[0,3],[0,4]]))\n",
    "\n",
    "\n",
    "\n",
    "print('weight 2')\n",
    "disp(I4_1)\n",
    "disp(I4_2)\n",
    "\n",
    "print('weight 3')\n",
    "disp(I6_1)\n",
    "disp(expand(I6_2))\n",
    "\n",
    "print('weight 4')\n",
    "disp(I8_1)\n",
    "print('')\n",
    "disp(I8_2)\n",
    "print('')\n",
    "disp(I8_3)\n",
    "print('')\n",
    "disp(I8_4)\n",
    "print('')\n",
    "disp(I8_5)\n",
    "print('')\n",
    "disp(I8_6)\n",
    "print('')\n",
    "disp(I8_7)"
   ]
  },
  {
   "cell_type": "code",
   "execution_count": 162,
   "metadata": {},
   "outputs": [
    {
     "data": {
      "text/latex": [
       "$$\\frac{- \\left(f_{x}\\right)^{2} f_{yy} + 2 f_{x} f_{y} f_{xy} - \\left(f_{y}\\right)^{2} f_{xx}}{2 f_{xx} f_{yy} - 2 \\left(f_{xy}\\right)^{2}}$$"
      ],
      "text/plain": [
       "<IPython.core.display.Math object>"
      ]
     },
     "metadata": {},
     "output_type": "display_data"
    },
    {
     "data": {
      "text/latex": [
       "$$\\frac{- \\left(f_{x}\\right)^{3} f_{yyy} + 3 \\left(f_{x}\\right)^{2} f_{y} f_{xyy} - 3 f_{x} \\left(f_{y}\\right)^{2} f_{xxy} + \\left(f_{y}\\right)^{3} f_{xxx}}{\\left(f_{xx} f_{xyy} - 2 f_{xy} f_{xxy} + f_{yy} f_{xxx}\\right) f_{y} - \\left(f_{xx} f_{yyy} - 2 f_{xy} f_{xyy} + f_{yy} f_{xxy}\\right) f_{x}}$$"
      ],
      "text/plain": [
       "<IPython.core.display.Math object>"
      ]
     },
     "metadata": {},
     "output_type": "display_data"
    }
   ],
   "source": [
    "# Only 'weight 4' affine invariant\n",
    "disp(I4_2/I4_1)\n",
    "\n",
    "# Only 'weight 6' affine invariant\n",
    "disp(I6_2/I6_1)\n"
   ]
  },
  {
   "cell_type": "code",
   "execution_count": 24,
   "metadata": {},
   "outputs": [
    {
     "data": {
      "text/latex": [
       "$$- \\left(f_{x}\\right)^{3} f_{xy} f_{yyy} + \\left(f_{x}\\right)^{3} f_{yy} f_{xyy} + \\left(f_{x}\\right)^{2} f_{y} f_{xx} f_{yyy} + \\left(f_{x}\\right)^{2} f_{y} f_{xy} f_{xyy} - 2 \\left(f_{x}\\right)^{2} f_{y} f_{yy} f_{xxy} - 2 f_{x} \\left(f_{y}\\right)^{2} f_{xx} f_{xyy} + f_{x} \\left(f_{y}\\right)^{2} f_{xy} f_{xxy} + f_{x} \\left(f_{y}\\right)^{2} f_{yy} f_{xxx} + \\left(f_{y}\\right)^{3} f_{xx} f_{xxy} - \\left(f_{y}\\right)^{3} f_{xy} f_{xxx}$$"
      ],
      "text/plain": [
       "<IPython.core.display.Math object>"
      ]
     },
     "metadata": {},
     "output_type": "display_data"
    }
   ],
   "source": [
    "disp(partial_transvectant((f,f,f,f,f),[[0,2],[1,2],[2,3],[3,4]]))"
   ]
  },
  {
   "cell_type": "code",
   "execution_count": 35,
   "metadata": {},
   "outputs": [
    {
     "data": {
      "text/latex": [
       "$$4 \\left(\\left(f_{x} f_{xy} - f_{y} f_{xx}\\right) \\left(f_{xx} f_{yyy} - 2 f_{xy} f_{xyy} + f_{yy} f_{xxy}\\right) - \\left(f_{x} f_{yy} - f_{y} f_{xy}\\right) \\left(f_{xx} f_{xyy} - 2 f_{xy} f_{xxy} + f_{yy} f_{xxx}\\right)\\right) f{\\left (x,y \\right )}$$"
      ],
      "text/plain": [
       "<IPython.core.display.Math object>"
      ]
     },
     "metadata": {},
     "output_type": "display_data"
    }
   ],
   "source": [
    "disp(partial_transvectant((f,f,C),[[0,1],[1,2]]))"
   ]
  },
  {
   "cell_type": "code",
   "execution_count": 4,
   "metadata": {},
   "outputs": [
    {
     "data": {
      "text/latex": [
       "$$4 \\left(\\left(f_{xx} f_{xyy} - 2 f_{xy} f_{xxy} + f_{yy} f_{xxx}\\right) f_{y} - \\left(f_{xx} f_{yyy} - 2 f_{xy} f_{xyy} + f_{yy} f_{xxy}\\right) f_{x}\\right) f{\\left (x,y \\right )}$$"
      ],
      "text/plain": [
       "<IPython.core.display.Math object>"
      ]
     },
     "metadata": {},
     "output_type": "display_data"
    }
   ],
   "source": [
    "#disp(transvectant(C, C, 2))\n",
    "funcs = (C, f**2)\n",
    "pairs = [[0, 1]]\n",
    "disp(partial_transvectant(funcs, pairs))"
   ]
  },
  {
   "cell_type": "code",
   "execution_count": 40,
   "metadata": {},
   "outputs": [],
   "source": [
    "# Construct linear, quadratic, cubic forms\n",
    "fx, fy, fxx, fxy, fyy, fxxx, fxxy, fxyy, fyyy = symbols('f_x, f_y, f_{xx}, f_{xy}, f_{yy}, f_{xxx}, f_{xxy}, f_{xyy}, f_{yyy}') \n",
    "l = fx*x + fy*y\n",
    "q = fxx*x*x + 2*fxy*x*y + fyy*y*y\n",
    "c = fxxx*x*x*x + 3*fxxy*x*x*y + 3*fxyy*x*y*y + fyyy*y*y*y"
   ]
  },
  {
   "cell_type": "code",
   "execution_count": 48,
   "metadata": {},
   "outputs": [
    {
     "data": {
      "text/latex": [
       "$$- f_{xxx} f_{xyy} f_{yy} + f_{xxx} f_{xy} f_{yyy} + f_{xxy}^{2} f_{yy} - f_{xxy} f_{xx} f_{yyy} - f_{xxy} f_{xyy} f_{xy} + f_{xx} f_{xyy}^{2}$$"
      ],
      "text/plain": [
       "<IPython.core.display.Math object>"
      ]
     },
     "metadata": {},
     "output_type": "display_data"
    }
   ],
   "source": [
    "# I3 as a form (Robert's method to annoy us...)\n",
    "disp(-expand(transvectant(q,transvectant(c,c,2),2)/288))\n",
    "# I5\n",
    "disp(expand(transvectant(transvectant(c,c,2),transvectant(c,c,2),2)/10368))\n",
    "# I6\n",
    "disp(transvectant(c,l**3,3)/36)"
   ]
  },
  {
   "cell_type": "code",
   "execution_count": null,
   "metadata": {},
   "outputs": [],
   "source": []
  },
  {
   "cell_type": "code",
   "execution_count": 107,
   "metadata": {},
   "outputs": [
    {
     "data": {
      "text/latex": [
       "$$- 2 f_{xx} f_{xxy} f_{yyy} + 2 f_{xx} \\left(f_{xyy}\\right)^{2} + 2 f_{xy} f_{xxx} f_{yyy} - 2 f_{xy} f_{xxy} f_{xyy} - 2 f_{yy} f_{xxx} f_{xyy} + 2 f_{yy} \\left(f_{xxy}\\right)^{2}$$"
      ],
      "text/plain": [
       "<IPython.core.display.Math object>"
      ]
     },
     "metadata": {},
     "output_type": "display_data"
    }
   ],
   "source": []
  },
  {
   "cell_type": "code",
   "execution_count": 102,
   "metadata": {},
   "outputs": [
    {
     "data": {
      "text/latex": [
       "$$2 f_{xx} f_{xxy} f_{yyy} - 2 f_{xx} \\left(f_{xyy}\\right)^{2} - 2 f_{xy} f_{xxx} f_{yyy} + 2 f_{xy} f_{xxy} f_{xyy} + 2 f_{yy} f_{xxx} f_{xyy} - 2 f_{yy} \\left(f_{xxy}\\right)^{2}$$"
      ],
      "text/plain": [
       "<IPython.core.display.Math object>"
      ]
     },
     "metadata": {},
     "output_type": "display_data"
    }
   ],
   "source": []
  },
  {
   "cell_type": "code",
   "execution_count": 119,
   "metadata": {},
   "outputs": [
    {
     "data": {
      "text/latex": [
       "$$0$$"
      ],
      "text/plain": [
       "<IPython.core.display.Math object>"
      ]
     },
     "metadata": {},
     "output_type": "display_data"
    }
   ],
   "source": []
  },
  {
   "cell_type": "code",
   "execution_count": 141,
   "metadata": {},
   "outputs": [
    {
     "data": {
      "text/latex": [
       "$$0$$"
      ],
      "text/plain": [
       "<IPython.core.display.Math object>"
      ]
     },
     "metadata": {},
     "output_type": "display_data"
    },
    {
     "data": {
      "text/latex": [
       "$$f_{x} f_{xx} f_{xy} f_{yyy} - f_{x} f_{xx} f_{yy} f_{xyy} - 2 f_{x} \\left(f_{xy}\\right)^{2} f_{xyy} + 3 f_{x} f_{xy} f_{yy} f_{xxy} - f_{x} \\left(f_{yy}\\right)^{2} f_{xxx} - f_{y} \\left(f_{xx}\\right)^{2} f_{yyy} + 3 f_{y} f_{xx} f_{xy} f_{xyy} - f_{y} f_{xx} f_{yy} f_{xxy} - 2 f_{y} \\left(f_{xy}\\right)^{2} f_{xxy} + f_{y} f_{xy} f_{yy} f_{xxx}$$"
      ],
      "text/plain": [
       "<IPython.core.display.Math object>"
      ]
     },
     "metadata": {},
     "output_type": "display_data"
    },
    {
     "data": {
      "text/latex": [
       "$$0$$"
      ],
      "text/plain": [
       "<IPython.core.display.Math object>"
      ]
     },
     "metadata": {},
     "output_type": "display_data"
    },
    {
     "data": {
      "text/latex": [
       "$$0$$"
      ],
      "text/plain": [
       "<IPython.core.display.Math object>"
      ]
     },
     "metadata": {},
     "output_type": "display_data"
    },
    {
     "data": {
      "text/latex": [
       "$$2 \\left(f_{xx}\\right)^{2} \\left(f_{yy}\\right)^{2} - 4 f_{xx} \\left(f_{xy}\\right)^{2} f_{yy} + 2 \\left(f_{xy}\\right)^{4}$$"
      ],
      "text/plain": [
       "<IPython.core.display.Math object>"
      ]
     },
     "metadata": {},
     "output_type": "display_data"
    },
    {
     "data": {
      "text/latex": [
       "$$0$$"
      ],
      "text/plain": [
       "<IPython.core.display.Math object>"
      ]
     },
     "metadata": {},
     "output_type": "display_data"
    },
    {
     "data": {
      "text/latex": [
       "$$0$$"
      ],
      "text/plain": [
       "<IPython.core.display.Math object>"
      ]
     },
     "metadata": {},
     "output_type": "display_data"
    },
    {
     "data": {
      "text/latex": [
       "$$\\left(\\left(f_{xx} f_{xxyy} - 2 f_{xy} f_{xxxy} + f_{yy} f_{xxxx}\\right) f_{xyy} - 2 \\left(f_{xx} f_{xyyy} - 2 f_{xy} f_{xxyy} + f_{yy} f_{xxxy}\\right) f_{xxy} + \\left(f_{xx} f_{yyyy} - 2 f_{xy} f_{xyyy} + f_{yy} f_{xxyy}\\right) f_{xxx}\\right) f_{y} - \\left(\\left(f_{xx} f_{xxyy} - 2 f_{xy} f_{xxxy} + f_{yy} f_{xxxx}\\right) f_{yyy} - 2 \\left(f_{xx} f_{xyyy} - 2 f_{xy} f_{xxyy} + f_{yy} f_{xxxy}\\right) f_{xyy} + \\left(f_{xx} f_{yyyy} - 2 f_{xy} f_{xyyy} + f_{yy} f_{xxyy}\\right) f_{xxy}\\right) f_{x}$$"
      ],
      "text/plain": [
       "<IPython.core.display.Math object>"
      ]
     },
     "metadata": {},
     "output_type": "display_data"
    },
    {
     "data": {
      "text/latex": [
       "$$2 \\left(f_{xx}\\right)^{2} f_{xxyy} f_{yyyy} - 2 \\left(f_{xx}\\right)^{2} \\left(f_{xyyy}\\right)^{2} - 4 f_{xx} f_{xy} f_{xxxy} f_{yyyy} + 4 f_{xx} f_{xy} f_{xxyy} f_{xyyy} + 2 f_{xx} f_{yy} f_{xxxx} f_{yyyy} - 4 f_{xx} f_{yy} f_{xxxy} f_{xyyy} + 2 f_{xx} f_{yy} \\left(f_{xxyy}\\right)^{2} + 8 \\left(f_{xy}\\right)^{2} f_{xxxy} f_{xyyy} - 8 \\left(f_{xy}\\right)^{2} \\left(f_{xxyy}\\right)^{2} - 4 f_{xy} f_{yy} f_{xxxx} f_{xyyy} + 4 f_{xy} f_{yy} f_{xxxy} f_{xxyy} + 2 \\left(f_{yy}\\right)^{2} f_{xxxx} f_{xxyy} - 2 \\left(f_{yy}\\right)^{2} \\left(f_{xxxy}\\right)^{2}$$"
      ],
      "text/plain": [
       "<IPython.core.display.Math object>"
      ]
     },
     "metadata": {},
     "output_type": "display_data"
    },
    {
     "data": {
      "text/latex": [
       "$$- f_{xx} \\left(f_{xxy}\\right)^{2} f_{yyyy} + 4 f_{xx} f_{xxy} f_{xyy} f_{xyyy} - 2 f_{xx} f_{xxy} f_{yyy} f_{xxyy} - 4 f_{xx} \\left(f_{xyy}\\right)^{2} f_{xxyy} + 4 f_{xx} f_{xyy} f_{yyy} f_{xxxy} - f_{xx} \\left(f_{yyy}\\right)^{2} f_{xxxx} + 2 f_{xy} f_{xxx} f_{xxy} f_{yyyy} - 4 f_{xy} f_{xxx} f_{xyy} f_{xyyy} + 2 f_{xy} f_{xxx} f_{yyy} f_{xxyy} - 4 f_{xy} \\left(f_{xxy}\\right)^{2} f_{xyyy} + 10 f_{xy} f_{xxy} f_{xyy} f_{xxyy} - 4 f_{xy} f_{xxy} f_{yyy} f_{xxxy} - 4 f_{xy} \\left(f_{xyy}\\right)^{2} f_{xxxy} + 2 f_{xy} f_{xyy} f_{yyy} f_{xxxx} - f_{yy} \\left(f_{xxx}\\right)^{2} f_{yyyy} + 4 f_{yy} f_{xxx} f_{xxy} f_{xyyy} - 2 f_{yy} f_{xxx} f_{xyy} f_{xxyy} - 4 f_{yy} \\left(f_{xxy}\\right)^{2} f_{xxyy} + 4 f_{yy} f_{xxy} f_{xyy} f_{xxxy} - f_{yy} \\left(f_{xyy}\\right)^{2} f_{xxxx}$$"
      ],
      "text/plain": [
       "<IPython.core.display.Math object>"
      ]
     },
     "metadata": {},
     "output_type": "display_data"
    }
   ],
   "source": [
    "disp(simplify(partial_transvectant((f,f,f,f),[[0,1],[1,2],[2,3]])))\n",
    "disp(simplify(partial_transvectant((f,f,f,f),[[0,1],[1,2],[2,3],[0,1]])))\n",
    "disp(simplify(partial_transvectant((f,f,f,f),[[0,1],[1,2],[2,3],[0,2]])))\n",
    "disp(simplify(partial_transvectant((f,f,f,f),[[0,1],[1,2],[2,3],[0,1],[0,2]])))\n",
    "\n",
    "disp(simplify(partial_transvectant((f,f,f,f),[[0,1],[1,2],[2,3],[3,0]])))\n",
    "disp(simplify(partial_transvectant((f,f,f,f),[[0,1],[1,2],[2,3],[3,0],[0,1]])))\n",
    "disp(simplify(partial_transvectant((f,f,f,f),[[0,1],[1,2],[2,3],[3,0],[0,2]])))\n",
    "disp(simplify(partial_transvectant((f,f,f,f),[[0,1],[0,1],[1,2],[1,2],[2,3]])))\n",
    "disp(simplify(partial_transvectant((f,f,f,f),[[0,1],[0,1],[1,2],[1,2],[2,3],[2,3]])))\n",
    "disp(simplify(partial_transvectant((f,f,f,f),[[0,1],[1,2],[2,3],[3,0],[0,1],[1,2]])))"
   ]
  },
  {
   "cell_type": "code",
   "execution_count": null,
   "metadata": {},
   "outputs": [],
   "source": [
    "disp(simplify(partial_transvectant((f,f,f),[[0,1],[1,2],[2,0]])))\n",
    "disp(simplify(partial_transvectant((f,f,f),[[0,1],[1,2],[0,1]])))\n",
    "disp(simplify(partial_transvectant((f,f,f),[[0,1],[1,2],[2,0],[0,1]])))"
   ]
  },
  {
   "cell_type": "code",
   "execution_count": 142,
   "metadata": {},
   "outputs": [
    {
     "data": {
      "text/latex": [
       "$$\\left(\\left(f_{xx} f_{xxyy} - 2 f_{xy} f_{xxxy} + f_{yy} f_{xxxx}\\right) f_{xyy} - 2 \\left(f_{xx} f_{xyyy} - 2 f_{xy} f_{xxyy} + f_{yy} f_{xxxy}\\right) f_{xxy} + \\left(f_{xx} f_{yyyy} - 2 f_{xy} f_{xyyy} + f_{yy} f_{xxyy}\\right) f_{xxx}\\right) f_{y} - \\left(\\left(f_{xx} f_{xxyy} - 2 f_{xy} f_{xxxy} + f_{yy} f_{xxxx}\\right) f_{yyy} - 2 \\left(f_{xx} f_{xyyy} - 2 f_{xy} f_{xxyy} + f_{yy} f_{xxxy}\\right) f_{xyy} + \\left(f_{xx} f_{yyyy} - 2 f_{xy} f_{xyyy} + f_{yy} f_{xxyy}\\right) f_{xxy}\\right) f_{x}$$"
      ],
      "text/plain": [
       "<IPython.core.display.Math object>"
      ]
     },
     "metadata": {},
     "output_type": "display_data"
    },
    {
     "data": {
      "text/latex": [
       "$$2 \\left(f_{xx}\\right)^{2} f_{xxyy} f_{yyyy} - 2 \\left(f_{xx}\\right)^{2} \\left(f_{xyyy}\\right)^{2} - 4 f_{xx} f_{xy} f_{xxxy} f_{yyyy} + 4 f_{xx} f_{xy} f_{xxyy} f_{xyyy} + 2 f_{xx} f_{yy} f_{xxxx} f_{yyyy} - 4 f_{xx} f_{yy} f_{xxxy} f_{xyyy} + 2 f_{xx} f_{yy} \\left(f_{xxyy}\\right)^{2} + 8 \\left(f_{xy}\\right)^{2} f_{xxxy} f_{xyyy} - 8 \\left(f_{xy}\\right)^{2} \\left(f_{xxyy}\\right)^{2} - 4 f_{xy} f_{yy} f_{xxxx} f_{xyyy} + 4 f_{xy} f_{yy} f_{xxxy} f_{xxyy} + 2 \\left(f_{yy}\\right)^{2} f_{xxxx} f_{xxyy} - 2 \\left(f_{yy}\\right)^{2} \\left(f_{xxxy}\\right)^{2}$$"
      ],
      "text/plain": [
       "<IPython.core.display.Math object>"
      ]
     },
     "metadata": {},
     "output_type": "display_data"
    }
   ],
   "source": [
    "disp(simplify(partial_transvectant((f,f,f,f),[[0,1],[0,1],[1,2],[1,2],[2,3]])))\n",
    "disp(simplify(partial_transvectant((f,f,f,f),[[0,1],[0,1],[1,2],[1,2],[2,3],[2,3]])))"
   ]
  },
  {
   "cell_type": "code",
   "execution_count": 147,
   "metadata": {},
   "outputs": [
    {
     "data": {
      "text/latex": [
       "$$\\left(f_{x}\\right)^{2} f_{xx} \\left(f_{yy}\\right)^{2} - \\left(f_{x}\\right)^{2} \\left(f_{xy}\\right)^{2} f_{yy} - 2 f_{x} f_{y} f_{xx} f_{xy} f_{yy} + 2 f_{x} f_{y} \\left(f_{xy}\\right)^{3} + \\left(f_{y}\\right)^{2} \\left(f_{xx}\\right)^{2} f_{yy} - \\left(f_{y}\\right)^{2} f_{xx} \\left(f_{xy}\\right)^{2}$$"
      ],
      "text/plain": [
       "<IPython.core.display.Math object>"
      ]
     },
     "metadata": {},
     "output_type": "display_data"
    }
   ],
   "source": [
    "disp(expand(partial_transvectant((f,f,f,f,f),[[0,1],[1,2],[2,3],[3,4]])))"
   ]
  },
  {
   "cell_type": "code",
   "execution_count": 153,
   "metadata": {},
   "outputs": [
    {
     "data": {
      "text/latex": [
       "$$\\left(f_{x}\\right)^{2} f_{xx} \\left(f_{yy}\\right)^{2} - \\left(f_{x}\\right)^{2} \\left(f_{xy}\\right)^{2} f_{yy} - 2 f_{x} f_{y} f_{xx} f_{xy} f_{yy} + 2 f_{x} f_{y} \\left(f_{xy}\\right)^{3} + \\left(f_{y}\\right)^{2} \\left(f_{xx}\\right)^{2} f_{yy} - \\left(f_{y}\\right)^{2} f_{xx} \\left(f_{xy}\\right)^{2}$$"
      ],
      "text/plain": [
       "<IPython.core.display.Math object>"
      ]
     },
     "metadata": {},
     "output_type": "display_data"
    },
    {
     "data": {
      "text/latex": [
       "$$- \\left(f_{x}\\right)^{2} f_{xx} \\left(f_{yy}\\right)^{2} + \\left(f_{x}\\right)^{2} \\left(f_{xy}\\right)^{2} f_{yy} + 2 f_{x} f_{y} f_{xx} f_{xy} f_{yy} - 2 f_{x} f_{y} \\left(f_{xy}\\right)^{3} - \\left(f_{y}\\right)^{2} \\left(f_{xx}\\right)^{2} f_{yy} + \\left(f_{y}\\right)^{2} f_{xx} \\left(f_{xy}\\right)^{2}$$"
      ],
      "text/plain": [
       "<IPython.core.display.Math object>"
      ]
     },
     "metadata": {},
     "output_type": "display_data"
    },
    {
     "data": {
      "text/latex": [
       "$$\\left(f_{x}\\right)^{3} f_{xy} f_{yyy} - \\left(f_{x}\\right)^{3} f_{yy} f_{xyy} - \\left(f_{x}\\right)^{2} f_{y} f_{xx} f_{yyy} - \\left(f_{x}\\right)^{2} f_{y} f_{xy} f_{xyy} + 2 \\left(f_{x}\\right)^{2} f_{y} f_{yy} f_{xxy} + 2 f_{x} \\left(f_{y}\\right)^{2} f_{xx} f_{xyy} - f_{x} \\left(f_{y}\\right)^{2} f_{xy} f_{xxy} - f_{x} \\left(f_{y}\\right)^{2} f_{yy} f_{xxx} - \\left(f_{y}\\right)^{3} f_{xx} f_{xxy} + \\left(f_{y}\\right)^{3} f_{xy} f_{xxx}$$"
      ],
      "text/plain": [
       "<IPython.core.display.Math object>"
      ]
     },
     "metadata": {},
     "output_type": "display_data"
    },
    {
     "data": {
      "text/latex": [
       "$$\\left(f_{x}\\right)^{4} f_{yyyy} - 4 \\left(f_{x}\\right)^{3} f_{y} f_{xyyy} + 6 \\left(f_{x}\\right)^{2} \\left(f_{y}\\right)^{2} f_{xxyy} - 4 f_{x} \\left(f_{y}\\right)^{3} f_{xxxy} + \\left(f_{y}\\right)^{4} f_{xxxx}$$"
      ],
      "text/plain": [
       "<IPython.core.display.Math object>"
      ]
     },
     "metadata": {},
     "output_type": "display_data"
    }
   ],
   "source": [
    "disp(expand(partial_transvectant((f,f,f,f,f),[[0,1],[1,2],[2,3],[3,4]])))\n",
    "disp(expand(partial_transvectant((f,f,f,f,f),[[0,1],[0,2],[0,3],[3,4]])))\n",
    "disp(expand(partial_transvectant((f,f,f,f,f),[[0,1],[0,2],[0,3],[0,4]])))"
   ]
  },
  {
   "cell_type": "code",
   "execution_count": null,
   "metadata": {},
   "outputs": [],
   "source": []
  },
  {
   "cell_type": "markdown",
   "metadata": {},
   "source": [
    "Transvectants:\n",
    "\n",
    "(1) We can use transvectants to create lots of invariants. More than Robert can.\n",
    "(2) We understand the role of weight and degree, and have a nice graph-based picture for all the invariants up to weight 8\n",
    "(3) There is no issue with SA(2), but for A(2) the weight 4 invariants have non-removable singularities. There are three possible solutions: (i) claim you only do this on parts of images, (ii) look at the weight 8 invariants instead, particularly I8_1 and I8_3 which do not have f_x in at all, or I4^2/I8, (iii) consider projection as Robert did. Our preference is (ii) but we haven't done it yet.\n"
   ]
  },
  {
   "cell_type": "markdown",
   "metadata": {},
   "source": [
    "Moving frame:\n",
    "\n",
    "(1) We understand it, but it is still ugly\n",
    "(2) So we just write it as is"
   ]
  },
  {
   "cell_type": "markdown",
   "metadata": {},
   "source": [
    "Hence:\n",
    "\n",
    "We can build all the invariants we need now.\n",
    "We still have a projection issue. And hence a high weight invariant issue. And hence a serious noise problem.\n",
    "\n",
    "But we probably now have enough for a paper. So we should write it. \n",
    "\n"
   ]
  }
 ],
 "metadata": {
  "kernelspec": {
   "display_name": "Python 3",
   "language": "python",
   "name": "python3"
  },
  "language_info": {
   "codemirror_mode": {
    "name": "ipython",
    "version": 3
   },
   "file_extension": ".py",
   "mimetype": "text/x-python",
   "name": "python",
   "nbconvert_exporter": "python",
   "pygments_lexer": "ipython3",
   "version": "3.7.3"
  }
 },
 "nbformat": 4,
 "nbformat_minor": 2
}
