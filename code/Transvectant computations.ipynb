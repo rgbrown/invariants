{
 "cells": [
  {
   "cell_type": "markdown",
   "metadata": {},
   "source": [
    "# Transvectant computations"
   ]
  },
  {
   "cell_type": "code",
   "execution_count": 5,
   "metadata": {},
   "outputs": [],
   "source": [
    "from sympy import Function, Symbol, symbols, init_printing\n",
    "from IPython.display import Math, display\n",
    "\n",
    "init_printing()\n",
    "from transvectants import *\n",
    "\n",
    "def disp(expr):\n",
    "    display(Math(my_latex(expr)))"
   ]
  },
  {
   "cell_type": "code",
   "execution_count": 17,
   "metadata": {},
   "outputs": [
    {
     "data": {
      "text/latex": [
       "$$2 \\left(f_{xx} f_{xxyy} - 2 f_{xy} f_{xxxy} + f_{yy} f_{xxxx} + 2 f_{xxx} f_{xyy} - 2 \\left(f_{xxy}\\right)^{2}\\right) f_{yy} - 4 \\left(f_{xx} f_{xyyy} - 2 f_{xy} f_{xxyy} + f_{yy} f_{xxxy} + f_{xxx} f_{yyy} - f_{xxy} f_{xyy}\\right) f_{xy} + 2 \\left(f_{xx} f_{yyyy} - 2 f_{xy} f_{xyyy} + f_{yy} f_{xxyy} + 2 f_{xxy} f_{yyy} - 2 \\left(f_{xyy}\\right)^{2}\\right) f_{xx}$$"
      ],
      "text/plain": [
       "<IPython.core.display.Math object>"
      ]
     },
     "metadata": {},
     "output_type": "display_data"
    },
    {
     "data": {
      "text/latex": [
       "$$\\left(f_{xx}\\right)^{2} f_{yyyy} - 4 f_{xx} f_{xy} f_{xyyy} + 2 f_{xx} f_{yy} f_{xxyy} + 4 \\left(f_{xy}\\right)^{2} f_{xxyy} - 4 f_{xy} f_{yy} f_{xxxy} + \\left(f_{yy}\\right)^{2} f_{xxxx}$$"
      ],
      "text/plain": [
       "<IPython.core.display.Math object>"
      ]
     },
     "metadata": {},
     "output_type": "display_data"
    }
   ],
   "source": [
    "x, y = symbols('x y')\n",
    "f = Function('f')(x, y)\n",
    "g = transvectant(f, f, 2)\n",
    "disp(transvectant(f, g, 2))\n",
    "disp(partial_transvectant((f, f, f), [[0, 1], [0, 1], [1, 2], [1, 2]]))"
   ]
  },
  {
   "cell_type": "code",
   "execution_count": null,
   "metadata": {},
   "outputs": [],
   "source": []
  }
 ],
 "metadata": {
  "kernelspec": {
   "display_name": "Python 3",
   "language": "python",
   "name": "python3"
  },
  "language_info": {
   "codemirror_mode": {
    "name": "ipython",
    "version": 3
   },
   "file_extension": ".py",
   "mimetype": "text/x-python",
   "name": "python",
   "nbconvert_exporter": "python",
   "pygments_lexer": "ipython3",
   "version": "3.6.4"
  }
 },
 "nbformat": 4,
 "nbformat_minor": 2
}
