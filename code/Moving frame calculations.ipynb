{
 "cells": [
  {
   "cell_type": "markdown",
   "metadata": {},
   "source": [
    "# Moving frame calculations\n",
    "## General idea\n",
    "Fundamental thing to start with\n",
    "$$\n",
    "  f(z) = \\bar{f}(\\bar{z})\n",
    "$$\n",
    "\n",
    "Then you need a general group transformation. \n",
    "Which you should simplify as far as possible. \n",
    "    First: translations can be removed. This is always true, since you have choice of cross-section. It is an extremely good idea since it means that you will now evaluate everything at (x,y) = (0,0).\n",
    "    Second: Remove any other group parameters you can.\n",
    "    \n",
    "Now prolong the group action. Just write it out, don't think. The code below should help.\n",
    "\n",
    "Turn the prolonged action into a matrix up to the appropriate number of derivatives. Remember that you are solving for the entries of the matrix, not for the vectors. \n",
    "\n",
    "Now comes the art. You need to find the rest of the cross-section. Choose values for sets of the barred derivatives in order to get all the parameters. What is left over is an invariant. \n",
    "\n",
    "\n",
    "\n"
   ]
  },
  {
   "cell_type": "markdown",
   "metadata": {},
   "source": [
    "## Mobius\n",
    "Fundamental thing to start with\n",
    "$$\n",
    "  f(z) = \\bar{f}(\\bar{z})\n",
    "$$\n",
    "A general Mobius transformation is\n",
    "$$\n",
    "  \\bar{z} = \\frac{\\alpha z + \\beta}{\\gamma z + \\delta}\n",
    "$$\n",
    "\n",
    "Assuming $\\delta \\neq 0$, we can normalise it: $\\delta = 1$. For our cross-section, we'll choose $\\bar{z} = 0$. From any point $z$, this determines $\\beta$, so wlog assume we start at $z = 0$, i.e. that $\\beta = 0$. *So $z = 0$ from now on!!!*.\n",
    "\n",
    "\n",
    "$$\n",
    "  \\bar{x} + i\\bar{y} = \\frac{(a + ib)(x + iy)}{1 + (c + id)(x + iy)}\n",
    "$$\n",
    "\n",
    "\n",
    "After the zeroth-order frame translates the general point $\\bar{x}$ to $0$. So all derivative calculations will be evaluated at $x = y = 0$."
   ]
  },
  {
   "cell_type": "code",
   "execution_count": 1,
   "metadata": {},
   "outputs": [],
   "source": [
    "from sympy import Function, Symbol, symbols, init_printing, expand, I, re, im\n",
    "from IPython.display import Math, display\n",
    "\n",
    "init_printing()\n",
    "from transvectants import *\n",
    "\n",
    "def disp(expr):\n",
    "    display(Math(my_latex(expr)))"
   ]
  },
  {
   "cell_type": "code",
   "execution_count": 62,
   "metadata": {},
   "outputs": [
    {
     "ename": "NameError",
     "evalue": "name 'transvectants' is not defined",
     "output_type": "error",
     "traceback": [
      "\u001b[1;31m---------------------------------------------------------------------------\u001b[0m",
      "\u001b[1;31mNameError\u001b[0m                                 Traceback (most recent call last)",
      "\u001b[1;32m<ipython-input-62-4c851033d21e>\u001b[0m in \u001b[0;36m<module>\u001b[1;34m\u001b[0m\n\u001b[0;32m      1\u001b[0m \u001b[1;32mfrom\u001b[0m \u001b[0mimportlib\u001b[0m \u001b[1;32mimport\u001b[0m \u001b[0mreload\u001b[0m\u001b[1;33m\u001b[0m\u001b[1;33m\u001b[0m\u001b[0m\n\u001b[1;32m----> 2\u001b[1;33m \u001b[0mreload\u001b[0m\u001b[1;33m(\u001b[0m\u001b[0mtransvectants\u001b[0m\u001b[1;33m)\u001b[0m\u001b[1;33m\u001b[0m\u001b[1;33m\u001b[0m\u001b[0m\n\u001b[0m",
      "\u001b[1;31mNameError\u001b[0m: name 'transvectants' is not defined"
     ]
    }
   ],
   "source": [
    "\n"
   ]
  },
  {
   "cell_type": "code",
   "execution_count": 2,
   "metadata": {},
   "outputs": [
    {
     "data": {
      "image/png": "[encoded data removed]",
      "text/latex": [
       "$$g{\\left (\\frac{\\left(a x - b y\\right) \\left(c x - d y + 1\\right) + \\left(a y + b x\\right) \\left(c y + d x\\right)}{\\left(c y + d x\\right)^{2} + \\left(c x - d y + 1\\right)^{2}},\\frac{- \\left(a x - b y\\right) \\left(c y + d x\\right) + \\left(a y + b x\\right) \\left(c x - d y + 1\\right)}{\\left(c y + d x\\right)^{2} + \\left(c x - d y + 1\\right)^{2}} \\right )}$$"
      ],
      "text/plain": [
       " ⎛(a⋅x - b⋅y)⋅(c⋅x - d⋅y + 1) + (a⋅y + b⋅x)⋅(c⋅y + d⋅x)  -(a⋅x - b⋅y)⋅(c⋅y + d\n",
       "g⎜─────────────────────────────────────────────────────, ─────────────────────\n",
       " ⎜                      2                  2                                  \n",
       " ⎝           (c⋅y + d⋅x)  + (c⋅x - d⋅y + 1)                         (c⋅y + d⋅x\n",
       "\n",
       "⋅x) + (a⋅y + b⋅x)⋅(c⋅x - d⋅y + 1)⎞\n",
       "─────────────────────────────────⎟\n",
       " 2                  2            ⎟\n",
       ")  + (c⋅x - d⋅y + 1)             ⎠"
      ]
     },
     "execution_count": 2,
     "metadata": {},
     "output_type": "execute_result"
    }
   ],
   "source": [
    "# p and q are \\bar{x} \\bar{y}\n",
    "x, y = symbols('x y')\n",
    "p, q = symbols('p q')\n",
    "a, b, c, d = symbols('a b c d')\n",
    "p = ((a*x - b*y)*(1 + c*x - d*y) + (b*x + a*y)*(d*x + c*y))/((1 + c*x - d*y)**2 + (d*x + c*y)**2)\n",
    "q = ((b*x + a*y)*(1 + c*x - d*y) - (a*x - b*y)*(d*x + c*y))/((1 + c*x - d*y)**2 + (d*x + c*y)**2)\n",
    "\n",
    "# Can we tidy this later - but this does work\n",
    "g = Function('g')(p, q)\n",
    "g\n"
   ]
  },
  {
   "cell_type": "code",
   "execution_count": 3,
   "metadata": {},
   "outputs": [],
   "source": [
    "# In the below, interpret fb_blah as the the f derivative\n",
    "foo = diff(g, x).subs([(x, 0), (y, 0)])\n"
   ]
  },
  {
   "cell_type": "code",
   "execution_count": 4,
   "metadata": {},
   "outputs": [
    {
     "data": {
      "image/png": "[encoded data removed]",
      "text/latex": [
       "$$a \\left. \\frac{d}{d \\xi_{1}} g{\\left (\\xi_{1},0 \\right )} \\right|_{\\substack{ \\xi_{1}=0 }} + b \\left. \\frac{d}{d \\xi_{2}} g{\\left (0,\\xi_{2} \\right )} \\right|_{\\substack{ \\xi_{2}=0 }}$$"
      ],
      "text/plain": [
       "  ⎛ d           ⎞│         ⎛ d           ⎞│    \n",
       "a⋅⎜───(g(ξ₁, 0))⎟│     + b⋅⎜───(g(0, ξ₂))⎟│    \n",
       "  ⎝dξ₁          ⎠│ξ₁=0     ⎝dξ₂          ⎠│ξ₂=0"
      ]
     },
     "execution_count": 4,
     "metadata": {},
     "output_type": "execute_result"
    }
   ],
   "source": [
    "foo"
   ]
  },
  {
   "cell_type": "code",
   "execution_count": 5,
   "metadata": {},
   "outputs": [
    {
     "data": {
      "text/latex": [
       "$\\displaystyle a g_{\\xi_{1}} + b g_{\\xi_{2}}$"
      ],
      "text/plain": [
       "<IPython.core.display.Math object>"
      ]
     },
     "metadata": {},
     "output_type": "display_data"
    },
    {
     "data": {
      "text/latex": [
       "$\\displaystyle a g_{\\xi_{1}} + b g_{\\xi_{2}}$"
      ],
      "text/plain": [
       "<IPython.core.display.Math object>"
      ]
     },
     "metadata": {},
     "output_type": "display_data"
    },
    {
     "data": {
      "text/latex": [
       "$\\displaystyle a \\left(a g_{\\xi_{1}\\xi_{1}} + b g_{\\xi_{1}\\xi_{2}}\\right) + b \\left(a g_{\\xi_{1}\\xi_{2}} + b g_{\\xi_{2}\\xi_{2}}\\right) - 2 \\left(a c - b d\\right) g_{\\xi_{1}} + 2 \\left(- a d - b c\\right) g_{\\xi_{2}}$"
      ],
      "text/plain": [
       "<IPython.core.display.Math object>"
      ]
     },
     "metadata": {},
     "output_type": "display_data"
    },
    {
     "data": {
      "text/latex": [
       "$\\displaystyle a \\left(a g_{\\xi_{1}\\xi_{2}} - b g_{\\xi_{1}\\xi_{1}}\\right) + b \\left(a g_{\\xi_{2}\\xi_{2}} - b g_{\\xi_{1}\\xi_{2}}\\right) - 2 \\left(a c - b d\\right) g_{\\xi_{2}} - 2 \\left(- a d - b c\\right) g_{\\xi_{1}}$"
      ],
      "text/plain": [
       "<IPython.core.display.Math object>"
      ]
     },
     "metadata": {},
     "output_type": "display_data"
    },
    {
     "data": {
      "text/latex": [
       "$\\displaystyle a \\left(a g_{\\xi_{2}\\xi_{2}} - b g_{\\xi_{1}\\xi_{2}}\\right) - b \\left(a g_{\\xi_{1}\\xi_{2}} - b g_{\\xi_{1}\\xi_{1}}\\right) - 2 \\left(- a c + b d\\right) g_{\\xi_{1}} - 2 \\left(- a d - b c\\right) g_{\\xi_{2}}$"
      ],
      "text/plain": [
       "<IPython.core.display.Math object>"
      ]
     },
     "metadata": {},
     "output_type": "display_data"
    },
    {
     "data": {
      "text/latex": [
       "$\\displaystyle - a \\left(a \\left(- a g_{\\xi_{1}\\xi_{1}\\xi_{1}} - b g_{\\xi_{1}\\xi_{1}\\xi_{2}}\\right) - b^{2} g_{\\xi_{1}\\xi_{2}\\xi_{2}} + 2 \\left(a c - b d\\right) g_{\\xi_{1}\\xi_{1}} + 2 \\left(a d + b c\\right) g_{\\xi_{1}\\xi_{2}}\\right) + b \\left(a^{2} g_{\\xi_{1}\\xi_{1}\\xi_{2}} + b \\left(a g_{\\xi_{1}\\xi_{2}\\xi_{2}} + b g_{\\xi_{2}\\xi_{2}\\xi_{2}}\\right) - 2 \\left(a c - b d\\right) g_{\\xi_{1}\\xi_{2}} + 2 \\left(- a d - b c\\right) g_{\\xi_{2}\\xi_{2}}\\right) - 4 \\left(a c - b d\\right) \\left(a g_{\\xi_{1}\\xi_{1}} + b g_{\\xi_{1}\\xi_{2}}\\right) + 4 \\left(- a d - b c\\right) \\left(a g_{\\xi_{1}\\xi_{2}} + b g_{\\xi_{2}\\xi_{2}}\\right) + 6 \\left(4 a c^{2} - a \\left(c^{2} + d^{2}\\right) - 2 c \\left(a c + b d\\right)\\right) g_{\\xi_{1}} - 6 \\left(- 4 b c^{2} + b \\left(c^{2} + d^{2}\\right) - 2 c \\left(a d - b c\\right)\\right) g_{\\xi_{2}}$"
      ],
      "text/plain": [
       "<IPython.core.display.Math object>"
      ]
     },
     "metadata": {},
     "output_type": "display_data"
    },
    {
     "data": {
      "text/latex": [
       "$\\displaystyle - a \\left(- a b g_{\\xi_{1}\\xi_{2}\\xi_{2}} + a \\left(- a g_{\\xi_{1}\\xi_{1}\\xi_{2}} + b g_{\\xi_{1}\\xi_{1}\\xi_{1}}\\right) + 2 \\left(a c - b d\\right) g_{\\xi_{1}\\xi_{2}} + 2 \\left(- a d - b c\\right) g_{\\xi_{1}\\xi_{1}}\\right) + b \\left(- a b g_{\\xi_{1}\\xi_{1}\\xi_{2}} + b \\left(a g_{\\xi_{2}\\xi_{2}\\xi_{2}} - b g_{\\xi_{1}\\xi_{2}\\xi_{2}}\\right) - 2 \\left(a c - b d\\right) g_{\\xi_{2}\\xi_{2}} - 2 \\left(- a d - b c\\right) g_{\\xi_{1}\\xi_{2}}\\right) - 2 \\left(a c - b d\\right) \\left(a g_{\\xi_{1}\\xi_{2}} + b g_{\\xi_{2}\\xi_{2}}\\right) - 2 \\left(a c - b d\\right) \\left(a g_{\\xi_{1}\\xi_{2}} - b g_{\\xi_{1}\\xi_{1}}\\right) + 2 \\left(- a d - b c\\right) \\left(a g_{\\xi_{2}\\xi_{2}} - b g_{\\xi_{1}\\xi_{2}}\\right) - 2 \\left(- a d - b c\\right) \\left(a g_{\\xi_{1}\\xi_{1}} + b g_{\\xi_{1}\\xi_{2}}\\right) - 2 \\left(- 4 a c^{2} + a \\left(c^{2} + d^{2}\\right) + 8 b c d + 2 d \\left(a d - b c\\right)\\right) g_{\\xi_{2}} + 2 \\left(- 8 a c d - 4 b c^{2} + b \\left(c^{2} + d^{2}\\right) + 2 d \\left(a c + b d\\right)\\right) g_{\\xi_{1}}$"
      ],
      "text/plain": [
       "<IPython.core.display.Math object>"
      ]
     },
     "metadata": {},
     "output_type": "display_data"
    },
    {
     "data": {
      "text/latex": [
       "$\\displaystyle - a \\left(- a^{2} g_{\\xi_{1}\\xi_{2}\\xi_{2}} - b \\left(- a g_{\\xi_{1}\\xi_{1}\\xi_{2}} + b g_{\\xi_{1}\\xi_{1}\\xi_{1}}\\right) + 2 \\left(- a c + b d\\right) g_{\\xi_{1}\\xi_{1}} + 2 \\left(- a d - b c\\right) g_{\\xi_{1}\\xi_{2}}\\right) + b \\left(a \\left(a g_{\\xi_{2}\\xi_{2}\\xi_{2}} - b g_{\\xi_{1}\\xi_{2}\\xi_{2}}\\right) + b^{2} g_{\\xi_{1}\\xi_{1}\\xi_{2}} - 2 \\left(- a c + b d\\right) g_{\\xi_{1}\\xi_{2}} - 2 \\left(- a d - b c\\right) g_{\\xi_{2}\\xi_{2}}\\right) - 4 \\left(a c - b d\\right) \\left(a g_{\\xi_{2}\\xi_{2}} - b g_{\\xi_{1}\\xi_{2}}\\right) - 4 \\left(- a d - b c\\right) \\left(a g_{\\xi_{1}\\xi_{2}} - b g_{\\xi_{1}\\xi_{1}}\\right) - 2 \\left(- 4 a d^{2} + a \\left(c^{2} + d^{2}\\right) - 8 b c d + 2 c \\left(a c + b d\\right)\\right) g_{\\xi_{1}} + 2 \\left(- 8 a c d + 4 b d^{2} - b \\left(c^{2} + d^{2}\\right) + 2 c \\left(a d - b c\\right)\\right) g_{\\xi_{2}}$"
      ],
      "text/plain": [
       "<IPython.core.display.Math object>"
      ]
     },
     "metadata": {},
     "output_type": "display_data"
    },
    {
     "name": "stdout",
     "output_type": "stream",
     "text": [
      "boo\n"
     ]
    },
    {
     "data": {
      "text/latex": [
       "$\\displaystyle a \\left(a \\left(a g_{\\xi_{2}\\xi_{2}\\xi_{2}} - b g_{\\xi_{1}\\xi_{2}\\xi_{2}}\\right) + b^{2} g_{\\xi_{1}\\xi_{1}\\xi_{2}} - 2 \\left(- a c + b d\\right) g_{\\xi_{1}\\xi_{2}} - 2 \\left(- a d - b c\\right) g_{\\xi_{2}\\xi_{2}}\\right) + b \\left(- a^{2} g_{\\xi_{1}\\xi_{2}\\xi_{2}} - b \\left(- a g_{\\xi_{1}\\xi_{1}\\xi_{2}} + b g_{\\xi_{1}\\xi_{1}\\xi_{1}}\\right) + 2 \\left(- a c + b d\\right) g_{\\xi_{1}\\xi_{1}} + 2 \\left(- a d - b c\\right) g_{\\xi_{1}\\xi_{2}}\\right) - 4 \\left(- a c + b d\\right) \\left(a g_{\\xi_{1}\\xi_{2}} - b g_{\\xi_{1}\\xi_{1}}\\right) - 4 \\left(- a d - b c\\right) \\left(a g_{\\xi_{2}\\xi_{2}} - b g_{\\xi_{1}\\xi_{2}}\\right) - 6 \\left(- 4 a d^{2} + a \\left(c^{2} + d^{2}\\right) + 2 d \\left(a d - b c\\right)\\right) g_{\\xi_{2}} + 6 \\left(- 4 b d^{2} + b \\left(c^{2} + d^{2}\\right) + 2 d \\left(a c + b d\\right)\\right) g_{\\xi_{1}}$"
      ],
      "text/plain": [
       "<IPython.core.display.Math object>"
      ]
     },
     "metadata": {},
     "output_type": "display_data"
    }
   ],
   "source": [
    "disp(diff(g, x).subs([(x, 0), (y, 0)]))\n",
    "disp(diff(g, x).subs([(x, 0), (y, 0)]))\n",
    "disp(diff(g, x, x).subs([(x, 0), (y, 0)]))\n",
    "disp(diff(g, x, y).subs([(x, 0), (y, 0)]))\n",
    "disp(diff(g, y, y).subs([(x, 0), (y, 0)]))\n",
    "disp(diff(g, x, x, x).subs([(x, 0), (y, 0)]))\n",
    "disp(diff(g, x, x, y).subs([(x, 0), (y, 0)]))\n",
    "disp(diff(g, x, y, y).subs([(x, 0), (y, 0)]))\n",
    "print('boo')\n",
    "disp(diff(g, y, y, y).subs([(x, 0), (y, 0)]))"
   ]
  },
  {
   "cell_type": "markdown",
   "metadata": {},
   "source": [
    "### Write this out as a matrix\n",
    "\n",
    "### Now pick the cross-section"
   ]
  },
  {
   "cell_type": "markdown",
   "metadata": {},
   "source": [
    "# Conformal\n",
    "OK, let's try again. This time we are gonna be awesome and do conformal. The Taylor expansion of a general conformal map up to third order is\n",
    "$$\n",
    "  \\bar{z} = c_0 + c_1 z + c_2 z^2 + c_3 z^3\n",
    "$$\n",
    "Or in components,\n",
    "$$\n",
    "\\begin{align*}\n",
    "  \\bar{x} &= a_0 + a_1 x + a_2 (x^2 - y^2) + a_3 (x^3 - 3 xy^2) - b_1 y - 2b_2xy - 3b_3x^2y + b_3y^3   \\\\ \n",
    "  3 & = 4\n",
    "\\end{align*}\n",
    "$$"
   ]
  },
  {
   "cell_type": "code",
   "execution_count": 54,
   "metadata": {},
   "outputs": [
    {
     "data": {
      "image/png": "[encoded data removed]",
      "text/latex": [
       "$$a_{1} x + a_{2} \\left(x^{2} - y^{2}\\right) + a_{3} \\left(x^{3} - 3 x y^{2}\\right) - b_{1} y - 2 b_{2} x y - b_{3} \\left(3 x^{2} y - y^{3}\\right)$$"
      ],
      "text/plain": [
       "          ⎛ 2    2⎞      ⎛ 3        2⎞                        ⎛   2      3⎞\n",
       "a₁⋅x + a₂⋅⎝x  - y ⎠ + a₃⋅⎝x  - 3⋅x⋅y ⎠ - b₁⋅y - 2⋅b₂⋅x⋅y - b₃⋅⎝3⋅x ⋅y - y ⎠"
      ]
     },
     "execution_count": 54,
     "metadata": {},
     "output_type": "execute_result"
    }
   ],
   "source": [
    "x, y = symbols('x y', real=True)\n",
    "a0, a1, a2, a3, b0, b1, b2, b3 = symbols('a_0 a_1 a_2 a_3 b_0 b_1 b_2 b_3', real=True)\n",
    "z = x + I*y\n",
    "# We have removed the a_0 + I*b_0 term to take out the translation\n",
    "w = (a1 + I*b1)*z + (a2 + I*b2)*z**2 + (a3 + I*b3)*z**3\n",
    "p = re(w)\n",
    "q = im(w)\n",
    "p"
   ]
  },
  {
   "cell_type": "code",
   "execution_count": 59,
   "metadata": {},
   "outputs": [
    {
     "data": {
      "text/latex": [
       "$\\displaystyle a_{1} \\left. g_{\\xi_{1}} \\right|_{\\substack{ \\xi_{1}=0 }} + b_{1} \\left. g_{\\xi_{2}} \\right|_{\\substack{ \\xi_{2}=0 }}$"
      ],
      "text/plain": [
       "<IPython.core.display.Math object>"
      ]
     },
     "metadata": {},
     "output_type": "display_data"
    },
    {
     "data": {
      "text/latex": [
       "$\\displaystyle a_{1} \\left. g_{\\xi_{2}} \\right|_{\\substack{ \\xi_{2}=0 }} - b_{1} \\left. g_{\\xi_{1}} \\right|_{\\substack{ \\xi_{1}=0 }}$"
      ],
      "text/plain": [
       "<IPython.core.display.Math object>"
      ]
     },
     "metadata": {},
     "output_type": "display_data"
    },
    {
     "data": {
      "text/latex": [
       "$\\displaystyle a_{1} \\left(a_{1} \\left. g_{\\xi_{1}\\xi_{1}} \\right|_{\\substack{ \\xi_{1}=0 }} + b_{1} \\left. \\left. g_{\\xi_{1}\\xi_{2}} \\right|_{\\substack{ \\xi_{1}=0 }} \\right|_{\\substack{ \\xi_{2}=0 }}\\right) + 2 a_{2} \\left. g_{\\xi_{1}} \\right|_{\\substack{ \\xi_{1}=0 }} + b_{1} \\left(a_{1} \\left. \\left. g_{\\xi_{1}\\xi_{2}} \\right|_{\\substack{ \\xi_{1}=0 }} \\right|_{\\substack{ \\xi_{2}=0 }} + b_{1} \\left. g_{\\xi_{2}\\xi_{2}} \\right|_{\\substack{ \\xi_{2}=0 }}\\right) + 2 b_{2} \\left. g_{\\xi_{2}} \\right|_{\\substack{ \\xi_{2}=0 }}$"
      ],
      "text/plain": [
       "<IPython.core.display.Math object>"
      ]
     },
     "metadata": {},
     "output_type": "display_data"
    },
    {
     "data": {
      "text/latex": [
       "$\\displaystyle a_{1} \\left(a_{1} \\left. \\left. g_{\\xi_{1}\\xi_{2}} \\right|_{\\substack{ \\xi_{1}=0 }} \\right|_{\\substack{ \\xi_{2}=0 }} - b_{1} \\left. g_{\\xi_{1}\\xi_{1}} \\right|_{\\substack{ \\xi_{1}=0 }}\\right) + 2 a_{2} \\left. g_{\\xi_{2}} \\right|_{\\substack{ \\xi_{2}=0 }} + b_{1} \\left(a_{1} \\left. g_{\\xi_{2}\\xi_{2}} \\right|_{\\substack{ \\xi_{2}=0 }} - b_{1} \\left. \\left. g_{\\xi_{1}\\xi_{2}} \\right|_{\\substack{ \\xi_{1}=0 }} \\right|_{\\substack{ \\xi_{2}=0 }}\\right) - 2 b_{2} \\left. g_{\\xi_{1}} \\right|_{\\substack{ \\xi_{1}=0 }}$"
      ],
      "text/plain": [
       "<IPython.core.display.Math object>"
      ]
     },
     "metadata": {},
     "output_type": "display_data"
    },
    {
     "data": {
      "text/latex": [
       "$\\displaystyle a_{1} \\left(a_{1} \\left. g_{\\xi_{2}\\xi_{2}} \\right|_{\\substack{ \\xi_{2}=0 }} - b_{1} \\left. \\left. g_{\\xi_{1}\\xi_{2}} \\right|_{\\substack{ \\xi_{1}=0 }} \\right|_{\\substack{ \\xi_{2}=0 }}\\right) - 2 a_{2} \\left. g_{\\xi_{1}} \\right|_{\\substack{ \\xi_{1}=0 }} - b_{1} \\left(a_{1} \\left. \\left. g_{\\xi_{1}\\xi_{2}} \\right|_{\\substack{ \\xi_{1}=0 }} \\right|_{\\substack{ \\xi_{2}=0 }} - b_{1} \\left. g_{\\xi_{1}\\xi_{1}} \\right|_{\\substack{ \\xi_{1}=0 }}\\right) - 2 b_{2} \\left. g_{\\xi_{2}} \\right|_{\\substack{ \\xi_{2}=0 }}$"
      ],
      "text/plain": [
       "<IPython.core.display.Math object>"
      ]
     },
     "metadata": {},
     "output_type": "display_data"
    },
    {
     "data": {
      "text/latex": [
       "$\\displaystyle a_{1} \\left(a_{1} \\left(a_{1} \\left. g_{\\xi_{1}\\xi_{1}\\xi_{1}} \\right|_{\\substack{ \\xi_{1}=0 }} + b_{1} \\left. \\left. g_{\\xi_{1}\\xi_{1}\\xi_{2}} \\right|_{\\substack{ \\xi_{1}=0 }} \\right|_{\\substack{ \\xi_{2}=0 }}\\right) + 2 a_{2} \\left. g_{\\xi_{1}\\xi_{1}} \\right|_{\\substack{ \\xi_{1}=0 }} + b_{1}^{2} \\left. \\left. g_{\\xi_{1}\\xi_{2}\\xi_{2}} \\right|_{\\substack{ \\xi_{2}=0 }} \\right|_{\\substack{ \\xi_{1}=0 }} + 2 b_{2} \\left. \\left. g_{\\xi_{1}\\xi_{2}} \\right|_{\\substack{ \\xi_{1}=0 }} \\right|_{\\substack{ \\xi_{2}=0 }}\\right) + 4 a_{2} \\left(a_{1} \\left. g_{\\xi_{1}\\xi_{1}} \\right|_{\\substack{ \\xi_{1}=0 }} + b_{1} \\left. \\left. g_{\\xi_{1}\\xi_{2}} \\right|_{\\substack{ \\xi_{1}=0 }} \\right|_{\\substack{ \\xi_{2}=0 }}\\right) + 6 a_{3} \\left. g_{\\xi_{1}} \\right|_{\\substack{ \\xi_{1}=0 }} + b_{1} \\left(a_{1}^{2} \\left. \\left. g_{\\xi_{1}\\xi_{1}\\xi_{2}} \\right|_{\\substack{ \\xi_{1}=0 }} \\right|_{\\substack{ \\xi_{2}=0 }} + 2 a_{2} \\left. \\left. g_{\\xi_{1}\\xi_{2}} \\right|_{\\substack{ \\xi_{1}=0 }} \\right|_{\\substack{ \\xi_{2}=0 }} + b_{1} \\left(a_{1} \\left. \\left. g_{\\xi_{1}\\xi_{2}\\xi_{2}} \\right|_{\\substack{ \\xi_{2}=0 }} \\right|_{\\substack{ \\xi_{1}=0 }} + b_{1} \\left. g_{\\xi_{2}\\xi_{2}\\xi_{2}} \\right|_{\\substack{ \\xi_{2}=0 }}\\right) + 2 b_{2} \\left. g_{\\xi_{2}\\xi_{2}} \\right|_{\\substack{ \\xi_{2}=0 }}\\right) + 4 b_{2} \\left(a_{1} \\left. \\left. g_{\\xi_{1}\\xi_{2}} \\right|_{\\substack{ \\xi_{1}=0 }} \\right|_{\\substack{ \\xi_{2}=0 }} + b_{1} \\left. g_{\\xi_{2}\\xi_{2}} \\right|_{\\substack{ \\xi_{2}=0 }}\\right) + 6 b_{3} \\left. g_{\\xi_{2}} \\right|_{\\substack{ \\xi_{2}=0 }}$"
      ],
      "text/plain": [
       "<IPython.core.display.Math object>"
      ]
     },
     "metadata": {},
     "output_type": "display_data"
    },
    {
     "data": {
      "text/latex": [
       "$\\displaystyle - a_{1} \\left(- a_{1} b_{1} \\left. \\left. g_{\\xi_{1}\\xi_{2}\\xi_{2}} \\right|_{\\substack{ \\xi_{2}=0 }} \\right|_{\\substack{ \\xi_{1}=0 }} + a_{1} \\left(- a_{1} \\left. \\left. g_{\\xi_{1}\\xi_{1}\\xi_{2}} \\right|_{\\substack{ \\xi_{1}=0 }} \\right|_{\\substack{ \\xi_{2}=0 }} + b_{1} \\left. g_{\\xi_{1}\\xi_{1}\\xi_{1}} \\right|_{\\substack{ \\xi_{1}=0 }}\\right) - 2 a_{2} \\left. \\left. g_{\\xi_{1}\\xi_{2}} \\right|_{\\substack{ \\xi_{1}=0 }} \\right|_{\\substack{ \\xi_{2}=0 }} + 2 b_{2} \\left. g_{\\xi_{1}\\xi_{1}} \\right|_{\\substack{ \\xi_{1}=0 }}\\right) + 2 a_{2} \\left(a_{1} \\left. \\left. g_{\\xi_{1}\\xi_{2}} \\right|_{\\substack{ \\xi_{1}=0 }} \\right|_{\\substack{ \\xi_{2}=0 }} + b_{1} \\left. g_{\\xi_{2}\\xi_{2}} \\right|_{\\substack{ \\xi_{2}=0 }}\\right) + 2 a_{2} \\left(a_{1} \\left. \\left. g_{\\xi_{1}\\xi_{2}} \\right|_{\\substack{ \\xi_{1}=0 }} \\right|_{\\substack{ \\xi_{2}=0 }} - b_{1} \\left. g_{\\xi_{1}\\xi_{1}} \\right|_{\\substack{ \\xi_{1}=0 }}\\right) + 6 a_{3} \\left. g_{\\xi_{2}} \\right|_{\\substack{ \\xi_{2}=0 }} + b_{1} \\left(- a_{1} b_{1} \\left. \\left. g_{\\xi_{1}\\xi_{1}\\xi_{2}} \\right|_{\\substack{ \\xi_{1}=0 }} \\right|_{\\substack{ \\xi_{2}=0 }} + 2 a_{2} \\left. g_{\\xi_{2}\\xi_{2}} \\right|_{\\substack{ \\xi_{2}=0 }} + b_{1} \\left(a_{1} \\left. g_{\\xi_{2}\\xi_{2}\\xi_{2}} \\right|_{\\substack{ \\xi_{2}=0 }} - b_{1} \\left. \\left. g_{\\xi_{1}\\xi_{2}\\xi_{2}} \\right|_{\\substack{ \\xi_{2}=0 }} \\right|_{\\substack{ \\xi_{1}=0 }}\\right) - 2 b_{2} \\left. \\left. g_{\\xi_{1}\\xi_{2}} \\right|_{\\substack{ \\xi_{1}=0 }} \\right|_{\\substack{ \\xi_{2}=0 }}\\right) + 2 b_{2} \\left(a_{1} \\left. g_{\\xi_{2}\\xi_{2}} \\right|_{\\substack{ \\xi_{2}=0 }} - b_{1} \\left. \\left. g_{\\xi_{1}\\xi_{2}} \\right|_{\\substack{ \\xi_{1}=0 }} \\right|_{\\substack{ \\xi_{2}=0 }}\\right) - 2 b_{2} \\left(a_{1} \\left. g_{\\xi_{1}\\xi_{1}} \\right|_{\\substack{ \\xi_{1}=0 }} + b_{1} \\left. \\left. g_{\\xi_{1}\\xi_{2}} \\right|_{\\substack{ \\xi_{1}=0 }} \\right|_{\\substack{ \\xi_{2}=0 }}\\right) - 6 b_{3} \\left. g_{\\xi_{1}} \\right|_{\\substack{ \\xi_{1}=0 }}$"
      ],
      "text/plain": [
       "<IPython.core.display.Math object>"
      ]
     },
     "metadata": {},
     "output_type": "display_data"
    },
    {
     "data": {
      "text/latex": [
       "$\\displaystyle - a_{1} \\left(a_{1} b_{1} \\left. \\left. g_{\\xi_{1}\\xi_{1}\\xi_{2}} \\right|_{\\substack{ \\xi_{1}=0 }} \\right|_{\\substack{ \\xi_{2}=0 }} + 2 a_{2} \\left. g_{\\xi_{1}\\xi_{1}} \\right|_{\\substack{ \\xi_{1}=0 }} - b_{1} \\left(- a_{1} \\left. \\left. g_{\\xi_{1}\\xi_{1}\\xi_{2}} \\right|_{\\substack{ \\xi_{1}=0 }} \\right|_{\\substack{ \\xi_{2}=0 }} + b_{1} \\left. g_{\\xi_{1}\\xi_{1}\\xi_{1}} \\right|_{\\substack{ \\xi_{1}=0 }}\\right) + 2 b_{2} \\left. \\left. g_{\\xi_{1}\\xi_{2}} \\right|_{\\substack{ \\xi_{1}=0 }} \\right|_{\\substack{ \\xi_{2}=0 }}\\right) + 4 a_{2} \\left(a_{1} \\left. g_{\\xi_{2}\\xi_{2}} \\right|_{\\substack{ \\xi_{2}=0 }} - b_{1} \\left. \\left. g_{\\xi_{1}\\xi_{2}} \\right|_{\\substack{ \\xi_{1}=0 }} \\right|_{\\substack{ \\xi_{2}=0 }}\\right) - 6 a_{3} \\left. g_{\\xi_{1}} \\right|_{\\substack{ \\xi_{1}=0 }} + b_{1} \\left(a_{1} \\left(a_{1} \\left. g_{\\xi_{2}\\xi_{2}\\xi_{2}} \\right|_{\\substack{ \\xi_{2}=0 }} - b_{1} \\left. \\left. g_{\\xi_{1}\\xi_{2}\\xi_{2}} \\right|_{\\substack{ \\xi_{2}=0 }} \\right|_{\\substack{ \\xi_{1}=0 }}\\right) - 2 a_{2} \\left. \\left. g_{\\xi_{1}\\xi_{2}} \\right|_{\\substack{ \\xi_{1}=0 }} \\right|_{\\substack{ \\xi_{2}=0 }} + b_{1}^{2} \\left. \\left. g_{\\xi_{1}\\xi_{1}\\xi_{2}} \\right|_{\\substack{ \\xi_{1}=0 }} \\right|_{\\substack{ \\xi_{2}=0 }} - 2 b_{2} \\left. g_{\\xi_{2}\\xi_{2}} \\right|_{\\substack{ \\xi_{2}=0 }}\\right) - 4 b_{2} \\left(a_{1} \\left. \\left. g_{\\xi_{1}\\xi_{2}} \\right|_{\\substack{ \\xi_{1}=0 }} \\right|_{\\substack{ \\xi_{2}=0 }} - b_{1} \\left. g_{\\xi_{1}\\xi_{1}} \\right|_{\\substack{ \\xi_{1}=0 }}\\right) - 6 b_{3} \\left. g_{\\xi_{2}} \\right|_{\\substack{ \\xi_{2}=0 }}$"
      ],
      "text/plain": [
       "<IPython.core.display.Math object>"
      ]
     },
     "metadata": {},
     "output_type": "display_data"
    },
    {
     "name": "stdout",
     "output_type": "stream",
     "text": [
      "boo\n"
     ]
    },
    {
     "data": {
      "text/latex": [
       "$\\displaystyle a_{1} \\left(a_{1} \\left(a_{1} \\left. g_{\\xi_{2}\\xi_{2}\\xi_{2}} \\right|_{\\substack{ \\xi_{2}=0 }} - b_{1} \\left. \\left. g_{\\xi_{1}\\xi_{2}\\xi_{2}} \\right|_{\\substack{ \\xi_{2}=0 }} \\right|_{\\substack{ \\xi_{1}=0 }}\\right) - 2 a_{2} \\left. \\left. g_{\\xi_{1}\\xi_{2}} \\right|_{\\substack{ \\xi_{1}=0 }} \\right|_{\\substack{ \\xi_{2}=0 }} + b_{1}^{2} \\left. \\left. g_{\\xi_{1}\\xi_{1}\\xi_{2}} \\right|_{\\substack{ \\xi_{1}=0 }} \\right|_{\\substack{ \\xi_{2}=0 }} - 2 b_{2} \\left. g_{\\xi_{2}\\xi_{2}} \\right|_{\\substack{ \\xi_{2}=0 }}\\right) - 4 a_{2} \\left(a_{1} \\left. \\left. g_{\\xi_{1}\\xi_{2}} \\right|_{\\substack{ \\xi_{1}=0 }} \\right|_{\\substack{ \\xi_{2}=0 }} - b_{1} \\left. g_{\\xi_{1}\\xi_{1}} \\right|_{\\substack{ \\xi_{1}=0 }}\\right) - 6 a_{3} \\left. g_{\\xi_{2}} \\right|_{\\substack{ \\xi_{2}=0 }} + b_{1} \\left(a_{1} b_{1} \\left. \\left. g_{\\xi_{1}\\xi_{1}\\xi_{2}} \\right|_{\\substack{ \\xi_{1}=0 }} \\right|_{\\substack{ \\xi_{2}=0 }} + 2 a_{2} \\left. g_{\\xi_{1}\\xi_{1}} \\right|_{\\substack{ \\xi_{1}=0 }} - b_{1} \\left(- a_{1} \\left. \\left. g_{\\xi_{1}\\xi_{1}\\xi_{2}} \\right|_{\\substack{ \\xi_{1}=0 }} \\right|_{\\substack{ \\xi_{2}=0 }} + b_{1} \\left. g_{\\xi_{1}\\xi_{1}\\xi_{1}} \\right|_{\\substack{ \\xi_{1}=0 }}\\right) + 2 b_{2} \\left. \\left. g_{\\xi_{1}\\xi_{2}} \\right|_{\\substack{ \\xi_{1}=0 }} \\right|_{\\substack{ \\xi_{2}=0 }}\\right) - 4 b_{2} \\left(a_{1} \\left. g_{\\xi_{2}\\xi_{2}} \\right|_{\\substack{ \\xi_{2}=0 }} - b_{1} \\left. \\left. g_{\\xi_{1}\\xi_{2}} \\right|_{\\substack{ \\xi_{1}=0 }} \\right|_{\\substack{ \\xi_{2}=0 }}\\right) + 6 b_{3} \\left. g_{\\xi_{1}} \\right|_{\\substack{ \\xi_{1}=0 }}$"
      ],
      "text/plain": [
       "<IPython.core.display.Math object>"
      ]
     },
     "metadata": {},
     "output_type": "display_data"
    }
   ],
   "source": [
    "fb = Function('g')(p, q)\n",
    "disp(diff(fb, x).subs([(x, 0), (y, 0)]))\n",
    "disp(diff(fb, y).subs([(x, 0), (y, 0)]))\n",
    "disp(diff(fb, x, x).subs([(x, 0), (y, 0)]))\n",
    "disp(diff(fb, x, y).subs([(x, 0), (y, 0)]))\n",
    "disp(diff(fb, y, y).subs([(x, 0), (y, 0)]))\n",
    "disp(diff(fb, x, x, x).subs([(x, 0), (y, 0)]))\n",
    "disp(diff(fb, x, x, y).subs([(x, 0), (y, 0)]))\n",
    "disp(diff(fb, x, y, y).subs([(x, 0), (y, 0)]))\n",
    "print('boo')\n",
    "disp(diff(fb, y, y, y).subs([(x, 0), (y, 0)]))"
   ]
  },
  {
   "cell_type": "markdown",
   "metadata": {},
   "source": [
    "### Write this out as a matrix\n",
    "\n",
    "### Now for the cross-section"
   ]
  },
  {
   "cell_type": "code",
   "execution_count": 19,
   "metadata": {
    "scrolled": true
   },
   "outputs": [
    {
     "data": {
      "text/latex": [
       "$\\displaystyle 2 f_{xxxx} f_{yyyy} - 8 f_{xyyy} f_{xxxy} + 6 \\left(f_{xxyy}\\right)^{2}$"
      ],
      "text/plain": [
       "<IPython.core.display.Math object>"
      ]
     },
     "metadata": {},
     "output_type": "display_data"
    }
   ],
   "source": []
  },
  {
   "cell_type": "code",
   "execution_count": 14,
   "metadata": {
    "scrolled": true
   },
   "outputs": [
    {
     "data": {
      "text/latex": [
       "$\\displaystyle \\left(f_{xx}\\right)^{2} f_{yyyy} + 2 f_{xx} f_{yy} f_{xxyy} - 4 f_{xx} f_{xy} f_{xyyy} + f_{xxxx} \\left(f_{yy}\\right)^{2} - 4 f_{yy} f_{xy} f_{xxxy} + 4 \\left(f_{xy}\\right)^{2} f_{xxyy}$"
      ],
      "text/plain": [
       "<IPython.core.display.Math object>"
      ]
     },
     "metadata": {},
     "output_type": "display_data"
    }
   ],
   "source": [
    "disp(expand(partial_transvectDant((f, f, f), [[0, 1], [0, 1], [0, 2], [0, 2]])))"
   ]
  },
  {
   "cell_type": "code",
   "execution_count": 11,
   "metadata": {},
   "outputs": [
    {
     "data": {
      "text/latex": [
       "$\\displaystyle 0$"
      ],
      "text/plain": [
       "<IPython.core.display.Math object>"
      ]
     },
     "metadata": {},
     "output_type": "display_data"
    }
   ],
   "source": [
    "disp(expand(partial_transvectant((f, f, f, f, f), [[0, 1], [0, 1], [2, 3], [2, 3], [2, 4]]) ) -2*(expand(partial_transvectant((f, f, f, f, f), [[0, 1], [1, 2], [2, 3], [3, 0], [0, 4]]) )))"
   ]
  },
  {
   "cell_type": "code",
   "execution_count": 16,
   "metadata": {},
   "outputs": [
    {
     "data": {
      "text/latex": [
       "$\\displaystyle f_{x} f_{xxx} f_{yyyy} - f_{x} f_{yyy} f_{xxxy} + 3 f_{x} f_{xyy} f_{xxyy} - 3 f_{x} f_{xyyy} f_{xxy} - f_{xxx} f_{y} f_{xyyy} + f_{xxxx} f_{y} f_{yyy} - 3 f_{y} f_{xyy} f_{xxxy} + 3 f_{y} f_{xxy} f_{xxyy}$"
      ],
      "text/plain": [
       "<IPython.core.display.Math object>"
      ]
     },
     "metadata": {},
     "output_type": "display_data"
    }
   ],
   "source": [
    "disp(expand(partial_transvectant((f, f, f), [[0, 1], [0, 1], [0, 1], [0, 2]])))"
   ]
  },
  {
   "cell_type": "code",
   "execution_count": 18,
   "metadata": {},
   "outputs": [
    {
     "data": {
      "text/latex": [
       "$\\displaystyle 0$"
      ],
      "text/plain": [
       "<IPython.core.display.Math object>"
      ]
     },
     "metadata": {},
     "output_type": "display_data"
    }
   ],
   "source": [
    "disp(expand(partial_transvectant((f, f), [[0, 1], [0, 1], [0, 1]])))"
   ]
  },
  {
   "cell_type": "code",
   "execution_count": 15,
   "metadata": {
    "scrolled": false
   },
   "outputs": [
    {
     "name": "stdout",
     "output_type": "stream",
     "text": [
      "weight 3:\n",
      "weight 4:\n",
      "weight 2\n"
     ]
    },
    {
     "data": {
      "text/latex": [
       "$\\displaystyle 2 f_{xx} f_{yy} - 2 \\left(f_{xy}\\right)^{2}$"
      ],
      "text/plain": [
       "<IPython.core.display.Math object>"
      ]
     },
     "metadata": {},
     "output_type": "display_data"
    },
    {
     "data": {
      "text/latex": [
       "$\\displaystyle - \\left(f_{x}\\right)^{2} f_{yy} + 2 f_{x} f_{y} f_{xy} - f_{xx} \\left(f_{y}\\right)^{2}$"
      ],
      "text/plain": [
       "<IPython.core.display.Math object>"
      ]
     },
     "metadata": {},
     "output_type": "display_data"
    },
    {
     "name": "stdout",
     "output_type": "stream",
     "text": [
      "weight 3\n"
     ]
    },
    {
     "data": {
      "text/latex": [
       "$\\displaystyle - \\left(f_{xx} f_{yyy} + f_{yy} f_{xxy} - 2 f_{xy} f_{xyy}\\right) f_{x} + \\left(f_{xx} f_{xyy} + f_{xxx} f_{yy} - 2 f_{xy} f_{xxy}\\right) f_{y}$"
      ],
      "text/plain": [
       "<IPython.core.display.Math object>"
      ]
     },
     "metadata": {},
     "output_type": "display_data"
    },
    {
     "data": {
      "text/latex": [
       "$\\displaystyle - \\left(f_{x}\\right)^{3} f_{yyy} + 3 \\left(f_{x}\\right)^{2} f_{y} f_{xyy} - 3 f_{x} \\left(f_{y}\\right)^{2} f_{xxy} + f_{xxx} \\left(f_{y}\\right)^{3}$"
      ],
      "text/plain": [
       "<IPython.core.display.Math object>"
      ]
     },
     "metadata": {},
     "output_type": "display_data"
    },
    {
     "name": "stdout",
     "output_type": "stream",
     "text": [
      "weight 4\n"
     ]
    },
    {
     "data": {
      "text/latex": [
       "$\\displaystyle 2 f_{xx} f_{yyy} f_{xxy} - 2 f_{xx} \\left(f_{xyy}\\right)^{2} + 2 f_{xxx} f_{yy} f_{xyy} - 2 f_{xxx} f_{yyy} f_{xy} - 2 f_{yy} \\left(f_{xxy}\\right)^{2} + 2 f_{xy} f_{xyy} f_{xxy}$"
      ],
      "text/plain": [
       "<IPython.core.display.Math object>"
      ]
     },
     "metadata": {},
     "output_type": "display_data"
    },
    {
     "name": "stdout",
     "output_type": "stream",
     "text": [
      "\n"
     ]
    },
    {
     "data": {
      "text/latex": [
       "$\\displaystyle - f_{x} f_{xx} f_{yy} f_{xyy} + f_{x} f_{xx} f_{yyy} f_{xy} - f_{x} f_{xxx} \\left(f_{yy}\\right)^{2} + 3 f_{x} f_{yy} f_{xy} f_{xxy} - 2 f_{x} \\left(f_{xy}\\right)^{2} f_{xyy} - \\left(f_{xx}\\right)^{2} f_{y} f_{yyy} - f_{xx} f_{y} f_{yy} f_{xxy} + 3 f_{xx} f_{y} f_{xy} f_{xyy} + f_{xxx} f_{y} f_{yy} f_{xy} - 2 f_{y} \\left(f_{xy}\\right)^{2} f_{xxy}$"
      ],
      "text/plain": [
       "<IPython.core.display.Math object>"
      ]
     },
     "metadata": {},
     "output_type": "display_data"
    },
    {
     "name": "stdout",
     "output_type": "stream",
     "text": [
      "\n"
     ]
    },
    {
     "data": {
      "text/latex": [
       "$\\displaystyle 2 \\left(f_{xx}\\right)^{2} \\left(f_{yy}\\right)^{2} - 4 f_{xx} f_{yy} \\left(f_{xy}\\right)^{2} + 2 \\left(f_{xy}\\right)^{4}$"
      ],
      "text/plain": [
       "<IPython.core.display.Math object>"
      ]
     },
     "metadata": {},
     "output_type": "display_data"
    },
    {
     "name": "stdout",
     "output_type": "stream",
     "text": [
      "\n"
     ]
    },
    {
     "data": {
      "text/latex": [
       "$\\displaystyle - 2 \\left(f_{x}\\right)^{2} f_{yyy} f_{xxy} + 2 \\left(f_{x}\\right)^{2} \\left(f_{xyy}\\right)^{2} + 2 f_{x} f_{xxx} f_{y} f_{yyy} - 2 f_{x} f_{y} f_{xyy} f_{xxy} - 2 f_{xxx} \\left(f_{y}\\right)^{2} f_{xyy} + 2 \\left(f_{y}\\right)^{2} \\left(f_{xxy}\\right)^{2}$"
      ],
      "text/plain": [
       "<IPython.core.display.Math object>"
      ]
     },
     "metadata": {},
     "output_type": "display_data"
    },
    {
     "name": "stdout",
     "output_type": "stream",
     "text": [
      "\n"
     ]
    },
    {
     "data": {
      "text/latex": [
       "$\\displaystyle \\left(f_{x}\\right)^{2} f_{xx} \\left(f_{yy}\\right)^{2} - \\left(f_{x}\\right)^{2} f_{yy} \\left(f_{xy}\\right)^{2} - 2 f_{x} f_{xx} f_{y} f_{yy} f_{xy} + 2 f_{x} f_{y} \\left(f_{xy}\\right)^{3} + \\left(f_{xx}\\right)^{2} \\left(f_{y}\\right)^{2} f_{yy} - f_{xx} \\left(f_{y}\\right)^{2} \\left(f_{xy}\\right)^{2}$"
      ],
      "text/plain": [
       "<IPython.core.display.Math object>"
      ]
     },
     "metadata": {},
     "output_type": "display_data"
    },
    {
     "name": "stdout",
     "output_type": "stream",
     "text": [
      "\n"
     ]
    },
    {
     "data": {
      "text/latex": [
       "$\\displaystyle - \\left(f_{x}\\right)^{3} f_{yy} f_{xyy} + \\left(f_{x}\\right)^{3} f_{yyy} f_{xy} - \\left(f_{x}\\right)^{2} f_{xx} f_{y} f_{yyy} + 2 \\left(f_{x}\\right)^{2} f_{y} f_{yy} f_{xxy} - \\left(f_{x}\\right)^{2} f_{y} f_{xy} f_{xyy} + 2 f_{x} f_{xx} \\left(f_{y}\\right)^{2} f_{xyy} - f_{x} f_{xxx} \\left(f_{y}\\right)^{2} f_{yy} - f_{x} \\left(f_{y}\\right)^{2} f_{xy} f_{xxy} - f_{xx} \\left(f_{y}\\right)^{3} f_{xxy} + f_{xxx} \\left(f_{y}\\right)^{3} f_{xy}$"
      ],
      "text/plain": [
       "<IPython.core.display.Math object>"
      ]
     },
     "metadata": {},
     "output_type": "display_data"
    },
    {
     "name": "stdout",
     "output_type": "stream",
     "text": [
      "\n"
     ]
    },
    {
     "data": {
      "text/latex": [
       "$\\displaystyle \\left(f_{x}\\right)^{4} f_{yyyy} - 4 \\left(f_{x}\\right)^{3} f_{y} f_{xyyy} + 6 \\left(f_{x}\\right)^{2} \\left(f_{y}\\right)^{2} f_{xxyy} - 4 f_{x} \\left(f_{y}\\right)^{3} f_{xxxy} + f_{xxxx} \\left(f_{y}\\right)^{4}$"
      ],
      "text/plain": [
       "<IPython.core.display.Math object>"
      ]
     },
     "metadata": {},
     "output_type": "display_data"
    }
   ],
   "source": [
    "#C = transvectant(f, f, 2)\n",
    "#D = -partial_transvectant((f, f, f), [[0, 1], [1, 2]])\n",
    "# We are going to build these by weight, not degree. \n",
    "# Hence order does not match dispaper\n",
    "# Weight 4 (2 of 'em)\n",
    "\n",
    "I4_1 = partial_transvectant((f,f),[[0,1],[0,1]]) # = C\n",
    "I4_2 = partial_transvectant((f, f, f), [[0, 1], [1, 2]]) # = -D\n",
    "\n",
    "# Weight 6 (2 of 'em)\n",
    "print('weight 3:')\n",
    "I6_1 = partial_transvectant((f,f,f),[[0,1],[0,1],[0,2]]) # = transvectant(f, C, 1)\n",
    "I6_2 = partial_transvectant((f,f,f,f),[[0,1],[0,2],[0,3]])\n",
    "\n",
    "# Weight 8 (7 of 'em??)\n",
    "print('weight 4:')\n",
    "I8_1 = expand(partial_transvectant((f,f,f),[[0,1],[0,1],[1,2],[0,2]]))\n",
    "I8_2 = expand(partial_transvectant((f,f,f,f),[[0,1],[0,1],[1,2],[2,3]]))\n",
    "I8_3 = expand(partial_transvectant((f,f,f,f),[[0,1],[1,2],[2,3],[3,0]]))\n",
    "I8_4 = expand(partial_transvectant((f,f,f,f),[[0,1],[1,2],[1,2],[2,3]]))\n",
    "\n",
    "I8_5 = expand(partial_transvectant((f,f,f,f,f),[[0,1],[1,2],[2,3],[3,4]]))\n",
    "I8_6 = expand(partial_transvectant((f,f,f,f,f),[[0,1],[0,2],[0,3],[3,4]]))\n",
    "I8_7 = expand(partial_transvectant((f,f,f,f,f),[[0,1],[0,2],[0,3],[0,4]]))\n",
    "\n",
    "\n",
    "\n",
    "print('weight 2')\n",
    "disp(I4_1)\n",
    "disp(I4_2)\n",
    "\n",
    "print('weight 3')\n",
    "disp(I6_1)\n",
    "disp(expand(I6_2))\n",
    "\n",
    "print('weight 4')\n",
    "disp(I8_1)\n",
    "print('')\n",
    "disp(I8_2)\n",
    "print('')\n",
    "disp(I8_3)\n",
    "print('')\n",
    "disp(I8_4)\n",
    "print('')\n",
    "disp(I8_5)\n",
    "print('')\n",
    "disp(I8_6)\n",
    "print('')\n",
    "disp(I8_7)"
   ]
  },
  {
   "cell_type": "code",
   "execution_count": 162,
   "metadata": {},
   "outputs": [
    {
     "data": {
      "text/latex": [
       "$$\\frac{- \\left(f_{x}\\right)^{2} f_{yy} + 2 f_{x} f_{y} f_{xy} - \\left(f_{y}\\right)^{2} f_{xx}}{2 f_{xx} f_{yy} - 2 \\left(f_{xy}\\right)^{2}}$$"
      ],
      "text/plain": [
       "<IPython.core.display.Math object>"
      ]
     },
     "metadata": {},
     "output_type": "display_data"
    },
    {
     "data": {
      "text/latex": [
       "$$\\frac{- \\left(f_{x}\\right)^{3} f_{yyy} + 3 \\left(f_{x}\\right)^{2} f_{y} f_{xyy} - 3 f_{x} \\left(f_{y}\\right)^{2} f_{xxy} + \\left(f_{y}\\right)^{3} f_{xxx}}{\\left(f_{xx} f_{xyy} - 2 f_{xy} f_{xxy} + f_{yy} f_{xxx}\\right) f_{y} - \\left(f_{xx} f_{yyy} - 2 f_{xy} f_{xyy} + f_{yy} f_{xxy}\\right) f_{x}}$$"
      ],
      "text/plain": [
       "<IPython.core.display.Math object>"
      ]
     },
     "metadata": {},
     "output_type": "display_data"
    }
   ],
   "source": [
    "# Only 'weight 4' affine invariant\n",
    "disp(I4_2/I4_1)\n",
    "\n",
    "# Only 'weight 6' affine invariant\n",
    "disp(I6_2/I6_1)\n"
   ]
  },
  {
   "cell_type": "code",
   "execution_count": 24,
   "metadata": {},
   "outputs": [
    {
     "data": {
      "text/latex": [
       "$$- \\left(f_{x}\\right)^{3} f_{xy} f_{yyy} + \\left(f_{x}\\right)^{3} f_{yy} f_{xyy} + \\left(f_{x}\\right)^{2} f_{y} f_{xx} f_{yyy} + \\left(f_{x}\\right)^{2} f_{y} f_{xy} f_{xyy} - 2 \\left(f_{x}\\right)^{2} f_{y} f_{yy} f_{xxy} - 2 f_{x} \\left(f_{y}\\right)^{2} f_{xx} f_{xyy} + f_{x} \\left(f_{y}\\right)^{2} f_{xy} f_{xxy} + f_{x} \\left(f_{y}\\right)^{2} f_{yy} f_{xxx} + \\left(f_{y}\\right)^{3} f_{xx} f_{xxy} - \\left(f_{y}\\right)^{3} f_{xy} f_{xxx}$$"
      ],
      "text/plain": [
       "<IPython.core.display.Math object>"
      ]
     },
     "metadata": {},
     "output_type": "display_data"
    }
   ],
   "source": [
    "disp(partial_transvectant((f,f,f,f,f),[[0,2],[1,2],[2,3],[3,4]]))"
   ]
  },
  {
   "cell_type": "code",
   "execution_count": 35,
   "metadata": {},
   "outputs": [
    {
     "data": {
      "text/latex": [
       "$$4 \\left(\\left(f_{x} f_{xy} - f_{y} f_{xx}\\right) \\left(f_{xx} f_{yyy} - 2 f_{xy} f_{xyy} + f_{yy} f_{xxy}\\right) - \\left(f_{x} f_{yy} - f_{y} f_{xy}\\right) \\left(f_{xx} f_{xyy} - 2 f_{xy} f_{xxy} + f_{yy} f_{xxx}\\right)\\right) f{\\left (x,y \\right )}$$"
      ],
      "text/plain": [
       "<IPython.core.display.Math object>"
      ]
     },
     "metadata": {},
     "output_type": "display_data"
    }
   ],
   "source": [
    "disp(partial_transvectant((f,f,C),[[0,1],[1,2]]))"
   ]
  },
  {
   "cell_type": "code",
   "execution_count": 4,
   "metadata": {},
   "outputs": [
    {
     "data": {
      "text/latex": [
       "$$4 \\left(\\left(f_{xx} f_{xyy} - 2 f_{xy} f_{xxy} + f_{yy} f_{xxx}\\right) f_{y} - \\left(f_{xx} f_{yyy} - 2 f_{xy} f_{xyy} + f_{yy} f_{xxy}\\right) f_{x}\\right) f{\\left (x,y \\right )}$$"
      ],
      "text/plain": [
       "<IPython.core.display.Math object>"
      ]
     },
     "metadata": {},
     "output_type": "display_data"
    }
   ],
   "source": [
    "#disp(transvectant(C, C, 2))\n",
    "funcs = (C, f**2)\n",
    "pairs = [[0, 1]]\n",
    "disp(partial_transvectant(funcs, pairs))"
   ]
  },
  {
   "cell_type": "code",
   "execution_count": 40,
   "metadata": {},
   "outputs": [],
   "source": [
    "# Construct linear, quadratic, cubic forms\n",
    "fx, fy, fxx, fxy, fyy, fxxx, fxxy, fxyy, fyyy = symbols('f_x, f_y, f_{xx}, f_{xy}, f_{yy}, f_{xxx}, f_{xxy}, f_{xyy}, f_{yyy}') \n",
    "l = fx*x + fy*y\n",
    "q = fxx*x*x + 2*fxy*x*y + fyy*y*y\n",
    "c = fxxx*x*x*x + 3*fxxy*x*x*y + 3*fxyy*x*y*y + fyyy*y*y*y"
   ]
  },
  {
   "cell_type": "code",
   "execution_count": 48,
   "metadata": {},
   "outputs": [
    {
     "data": {
      "text/latex": [
       "$$- f_{xxx} f_{xyy} f_{yy} + f_{xxx} f_{xy} f_{yyy} + f_{xxy}^{2} f_{yy} - f_{xxy} f_{xx} f_{yyy} - f_{xxy} f_{xyy} f_{xy} + f_{xx} f_{xyy}^{2}$$"
      ],
      "text/plain": [
       "<IPython.core.display.Math object>"
      ]
     },
     "metadata": {},
     "output_type": "display_data"
    }
   ],
   "source": [
    "# I3 as a form (Robert's method to annoy us...)\n",
    "disp(-expand(transvectant(q,transvectant(c,c,2),2)/288))\n",
    "# I5\n",
    "disp(expand(transvectant(transvectant(c,c,2),transvectant(c,c,2),2)/10368))\n",
    "# I6\n",
    "disp(transvectant(c,l**3,3)/36)"
   ]
  },
  {
   "cell_type": "code",
   "execution_count": null,
   "metadata": {},
   "outputs": [],
   "source": []
  },
  {
   "cell_type": "code",
   "execution_count": 107,
   "metadata": {},
   "outputs": [
    {
     "data": {
      "text/latex": [
       "$$- 2 f_{xx} f_{xxy} f_{yyy} + 2 f_{xx} \\left(f_{xyy}\\right)^{2} + 2 f_{xy} f_{xxx} f_{yyy} - 2 f_{xy} f_{xxy} f_{xyy} - 2 f_{yy} f_{xxx} f_{xyy} + 2 f_{yy} \\left(f_{xxy}\\right)^{2}$$"
      ],
      "text/plain": [
       "<IPython.core.display.Math object>"
      ]
     },
     "metadata": {},
     "output_type": "display_data"
    }
   ],
   "source": []
  },
  {
   "cell_type": "code",
   "execution_count": 102,
   "metadata": {},
   "outputs": [
    {
     "data": {
      "text/latex": [
       "$$2 f_{xx} f_{xxy} f_{yyy} - 2 f_{xx} \\left(f_{xyy}\\right)^{2} - 2 f_{xy} f_{xxx} f_{yyy} + 2 f_{xy} f_{xxy} f_{xyy} + 2 f_{yy} f_{xxx} f_{xyy} - 2 f_{yy} \\left(f_{xxy}\\right)^{2}$$"
      ],
      "text/plain": [
       "<IPython.core.display.Math object>"
      ]
     },
     "metadata": {},
     "output_type": "display_data"
    }
   ],
   "source": []
  },
  {
   "cell_type": "code",
   "execution_count": 119,
   "metadata": {},
   "outputs": [
    {
     "data": {
      "text/latex": [
       "$$0$$"
      ],
      "text/plain": [
       "<IPython.core.display.Math object>"
      ]
     },
     "metadata": {},
     "output_type": "display_data"
    }
   ],
   "source": []
  },
  {
   "cell_type": "code",
   "execution_count": 141,
   "metadata": {},
   "outputs": [
    {
     "data": {
      "text/latex": [
       "$$0$$"
      ],
      "text/plain": [
       "<IPython.core.display.Math object>"
      ]
     },
     "metadata": {},
     "output_type": "display_data"
    },
    {
     "data": {
      "text/latex": [
       "$$f_{x} f_{xx} f_{xy} f_{yyy} - f_{x} f_{xx} f_{yy} f_{xyy} - 2 f_{x} \\left(f_{xy}\\right)^{2} f_{xyy} + 3 f_{x} f_{xy} f_{yy} f_{xxy} - f_{x} \\left(f_{yy}\\right)^{2} f_{xxx} - f_{y} \\left(f_{xx}\\right)^{2} f_{yyy} + 3 f_{y} f_{xx} f_{xy} f_{xyy} - f_{y} f_{xx} f_{yy} f_{xxy} - 2 f_{y} \\left(f_{xy}\\right)^{2} f_{xxy} + f_{y} f_{xy} f_{yy} f_{xxx}$$"
      ],
      "text/plain": [
       "<IPython.core.display.Math object>"
      ]
     },
     "metadata": {},
     "output_type": "display_data"
    },
    {
     "data": {
      "text/latex": [
       "$$0$$"
      ],
      "text/plain": [
       "<IPython.core.display.Math object>"
      ]
     },
     "metadata": {},
     "output_type": "display_data"
    },
    {
     "data": {
      "text/latex": [
       "$$0$$"
      ],
      "text/plain": [
       "<IPython.core.display.Math object>"
      ]
     },
     "metadata": {},
     "output_type": "display_data"
    },
    {
     "data": {
      "text/latex": [
       "$$2 \\left(f_{xx}\\right)^{2} \\left(f_{yy}\\right)^{2} - 4 f_{xx} \\left(f_{xy}\\right)^{2} f_{yy} + 2 \\left(f_{xy}\\right)^{4}$$"
      ],
      "text/plain": [
       "<IPython.core.display.Math object>"
      ]
     },
     "metadata": {},
     "output_type": "display_data"
    },
    {
     "data": {
      "text/latex": [
       "$$0$$"
      ],
      "text/plain": [
       "<IPython.core.display.Math object>"
      ]
     },
     "metadata": {},
     "output_type": "display_data"
    },
    {
     "data": {
      "text/latex": [
       "$$0$$"
      ],
      "text/plain": [
       "<IPython.core.display.Math object>"
      ]
     },
     "metadata": {},
     "output_type": "display_data"
    },
    {
     "data": {
      "text/latex": [
       "$$\\left(\\left(f_{xx} f_{xxyy} - 2 f_{xy} f_{xxxy} + f_{yy} f_{xxxx}\\right) f_{xyy} - 2 \\left(f_{xx} f_{xyyy} - 2 f_{xy} f_{xxyy} + f_{yy} f_{xxxy}\\right) f_{xxy} + \\left(f_{xx} f_{yyyy} - 2 f_{xy} f_{xyyy} + f_{yy} f_{xxyy}\\right) f_{xxx}\\right) f_{y} - \\left(\\left(f_{xx} f_{xxyy} - 2 f_{xy} f_{xxxy} + f_{yy} f_{xxxx}\\right) f_{yyy} - 2 \\left(f_{xx} f_{xyyy} - 2 f_{xy} f_{xxyy} + f_{yy} f_{xxxy}\\right) f_{xyy} + \\left(f_{xx} f_{yyyy} - 2 f_{xy} f_{xyyy} + f_{yy} f_{xxyy}\\right) f_{xxy}\\right) f_{x}$$"
      ],
      "text/plain": [
       "<IPython.core.display.Math object>"
      ]
     },
     "metadata": {},
     "output_type": "display_data"
    },
    {
     "data": {
      "text/latex": [
       "$$2 \\left(f_{xx}\\right)^{2} f_{xxyy} f_{yyyy} - 2 \\left(f_{xx}\\right)^{2} \\left(f_{xyyy}\\right)^{2} - 4 f_{xx} f_{xy} f_{xxxy} f_{yyyy} + 4 f_{xx} f_{xy} f_{xxyy} f_{xyyy} + 2 f_{xx} f_{yy} f_{xxxx} f_{yyyy} - 4 f_{xx} f_{yy} f_{xxxy} f_{xyyy} + 2 f_{xx} f_{yy} \\left(f_{xxyy}\\right)^{2} + 8 \\left(f_{xy}\\right)^{2} f_{xxxy} f_{xyyy} - 8 \\left(f_{xy}\\right)^{2} \\left(f_{xxyy}\\right)^{2} - 4 f_{xy} f_{yy} f_{xxxx} f_{xyyy} + 4 f_{xy} f_{yy} f_{xxxy} f_{xxyy} + 2 \\left(f_{yy}\\right)^{2} f_{xxxx} f_{xxyy} - 2 \\left(f_{yy}\\right)^{2} \\left(f_{xxxy}\\right)^{2}$$"
      ],
      "text/plain": [
       "<IPython.core.display.Math object>"
      ]
     },
     "metadata": {},
     "output_type": "display_data"
    },
    {
     "data": {
      "text/latex": [
       "$$- f_{xx} \\left(f_{xxy}\\right)^{2} f_{yyyy} + 4 f_{xx} f_{xxy} f_{xyy} f_{xyyy} - 2 f_{xx} f_{xxy} f_{yyy} f_{xxyy} - 4 f_{xx} \\left(f_{xyy}\\right)^{2} f_{xxyy} + 4 f_{xx} f_{xyy} f_{yyy} f_{xxxy} - f_{xx} \\left(f_{yyy}\\right)^{2} f_{xxxx} + 2 f_{xy} f_{xxx} f_{xxy} f_{yyyy} - 4 f_{xy} f_{xxx} f_{xyy} f_{xyyy} + 2 f_{xy} f_{xxx} f_{yyy} f_{xxyy} - 4 f_{xy} \\left(f_{xxy}\\right)^{2} f_{xyyy} + 10 f_{xy} f_{xxy} f_{xyy} f_{xxyy} - 4 f_{xy} f_{xxy} f_{yyy} f_{xxxy} - 4 f_{xy} \\left(f_{xyy}\\right)^{2} f_{xxxy} + 2 f_{xy} f_{xyy} f_{yyy} f_{xxxx} - f_{yy} \\left(f_{xxx}\\right)^{2} f_{yyyy} + 4 f_{yy} f_{xxx} f_{xxy} f_{xyyy} - 2 f_{yy} f_{xxx} f_{xyy} f_{xxyy} - 4 f_{yy} \\left(f_{xxy}\\right)^{2} f_{xxyy} + 4 f_{yy} f_{xxy} f_{xyy} f_{xxxy} - f_{yy} \\left(f_{xyy}\\right)^{2} f_{xxxx}$$"
      ],
      "text/plain": [
       "<IPython.core.display.Math object>"
      ]
     },
     "metadata": {},
     "output_type": "display_data"
    }
   ],
   "source": [
    "disp(simplify(partial_transvectant((f,f,f,f),[[0,1],[1,2],[2,3]])))\n",
    "disp(simplify(partial_transvectant((f,f,f,f),[[0,1],[1,2],[2,3],[0,1]])))\n",
    "disp(simplify(partial_transvectant((f,f,f,f),[[0,1],[1,2],[2,3],[0,2]])))\n",
    "disp(simplify(partial_transvectant((f,f,f,f),[[0,1],[1,2],[2,3],[0,1],[0,2]])))\n",
    "\n",
    "disp(simplify(partial_transvectant((f,f,f,f),[[0,1],[1,2],[2,3],[3,0]])))\n",
    "disp(simplify(partial_transvectant((f,f,f,f),[[0,1],[1,2],[2,3],[3,0],[0,1]])))\n",
    "disp(simplify(partial_transvectant((f,f,f,f),[[0,1],[1,2],[2,3],[3,0],[0,2]])))\n",
    "disp(simplify(partial_transvectant((f,f,f,f),[[0,1],[0,1],[1,2],[1,2],[2,3]])))\n",
    "disp(simplify(partial_transvectant((f,f,f,f),[[0,1],[0,1],[1,2],[1,2],[2,3],[2,3]])))\n",
    "disp(simplify(partial_transvectant((f,f,f,f),[[0,1],[1,2],[2,3],[3,0],[0,1],[1,2]])))"
   ]
  },
  {
   "cell_type": "code",
   "execution_count": null,
   "metadata": {},
   "outputs": [],
   "source": [
    "disp(simplify(partial_transvectant((f,f,f),[[0,1],[1,2],[2,0]])))\n",
    "disp(simplify(partial_transvectant((f,f,f),[[0,1],[1,2],[0,1]])))\n",
    "disp(simplify(partial_transvectant((f,f,f),[[0,1],[1,2],[2,0],[0,1]])))"
   ]
  },
  {
   "cell_type": "code",
   "execution_count": 142,
   "metadata": {},
   "outputs": [
    {
     "data": {
      "text/latex": [
       "$$\\left(\\left(f_{xx} f_{xxyy} - 2 f_{xy} f_{xxxy} + f_{yy} f_{xxxx}\\right) f_{xyy} - 2 \\left(f_{xx} f_{xyyy} - 2 f_{xy} f_{xxyy} + f_{yy} f_{xxxy}\\right) f_{xxy} + \\left(f_{xx} f_{yyyy} - 2 f_{xy} f_{xyyy} + f_{yy} f_{xxyy}\\right) f_{xxx}\\right) f_{y} - \\left(\\left(f_{xx} f_{xxyy} - 2 f_{xy} f_{xxxy} + f_{yy} f_{xxxx}\\right) f_{yyy} - 2 \\left(f_{xx} f_{xyyy} - 2 f_{xy} f_{xxyy} + f_{yy} f_{xxxy}\\right) f_{xyy} + \\left(f_{xx} f_{yyyy} - 2 f_{xy} f_{xyyy} + f_{yy} f_{xxyy}\\right) f_{xxy}\\right) f_{x}$$"
      ],
      "text/plain": [
       "<IPython.core.display.Math object>"
      ]
     },
     "metadata": {},
     "output_type": "display_data"
    },
    {
     "data": {
      "text/latex": [
       "$$2 \\left(f_{xx}\\right)^{2} f_{xxyy} f_{yyyy} - 2 \\left(f_{xx}\\right)^{2} \\left(f_{xyyy}\\right)^{2} - 4 f_{xx} f_{xy} f_{xxxy} f_{yyyy} + 4 f_{xx} f_{xy} f_{xxyy} f_{xyyy} + 2 f_{xx} f_{yy} f_{xxxx} f_{yyyy} - 4 f_{xx} f_{yy} f_{xxxy} f_{xyyy} + 2 f_{xx} f_{yy} \\left(f_{xxyy}\\right)^{2} + 8 \\left(f_{xy}\\right)^{2} f_{xxxy} f_{xyyy} - 8 \\left(f_{xy}\\right)^{2} \\left(f_{xxyy}\\right)^{2} - 4 f_{xy} f_{yy} f_{xxxx} f_{xyyy} + 4 f_{xy} f_{yy} f_{xxxy} f_{xxyy} + 2 \\left(f_{yy}\\right)^{2} f_{xxxx} f_{xxyy} - 2 \\left(f_{yy}\\right)^{2} \\left(f_{xxxy}\\right)^{2}$$"
      ],
      "text/plain": [
       "<IPython.core.display.Math object>"
      ]
     },
     "metadata": {},
     "output_type": "display_data"
    }
   ],
   "source": [
    "disp(simplify(partial_transvectant((f,f,f,f),[[0,1],[0,1],[1,2],[1,2],[2,3]])))\n",
    "disp(simplify(partial_transvectant((f,f,f,f),[[0,1],[0,1],[1,2],[1,2],[2,3],[2,3]])))"
   ]
  },
  {
   "cell_type": "code",
   "execution_count": 147,
   "metadata": {},
   "outputs": [
    {
     "data": {
      "text/latex": [
       "$$\\left(f_{x}\\right)^{2} f_{xx} \\left(f_{yy}\\right)^{2} - \\left(f_{x}\\right)^{2} \\left(f_{xy}\\right)^{2} f_{yy} - 2 f_{x} f_{y} f_{xx} f_{xy} f_{yy} + 2 f_{x} f_{y} \\left(f_{xy}\\right)^{3} + \\left(f_{y}\\right)^{2} \\left(f_{xx}\\right)^{2} f_{yy} - \\left(f_{y}\\right)^{2} f_{xx} \\left(f_{xy}\\right)^{2}$$"
      ],
      "text/plain": [
       "<IPython.core.display.Math object>"
      ]
     },
     "metadata": {},
     "output_type": "display_data"
    }
   ],
   "source": [
    "disp(expand(partial_transvectant((f,f,f,f,f),[[0,1],[1,2],[2,3],[3,4]])))"
   ]
  },
  {
   "cell_type": "code",
   "execution_count": 153,
   "metadata": {},
   "outputs": [
    {
     "data": {
      "text/latex": [
       "$$\\left(f_{x}\\right)^{2} f_{xx} \\left(f_{yy}\\right)^{2} - \\left(f_{x}\\right)^{2} \\left(f_{xy}\\right)^{2} f_{yy} - 2 f_{x} f_{y} f_{xx} f_{xy} f_{yy} + 2 f_{x} f_{y} \\left(f_{xy}\\right)^{3} + \\left(f_{y}\\right)^{2} \\left(f_{xx}\\right)^{2} f_{yy} - \\left(f_{y}\\right)^{2} f_{xx} \\left(f_{xy}\\right)^{2}$$"
      ],
      "text/plain": [
       "<IPython.core.display.Math object>"
      ]
     },
     "metadata": {},
     "output_type": "display_data"
    },
    {
     "data": {
      "text/latex": [
       "$$- \\left(f_{x}\\right)^{2} f_{xx} \\left(f_{yy}\\right)^{2} + \\left(f_{x}\\right)^{2} \\left(f_{xy}\\right)^{2} f_{yy} + 2 f_{x} f_{y} f_{xx} f_{xy} f_{yy} - 2 f_{x} f_{y} \\left(f_{xy}\\right)^{3} - \\left(f_{y}\\right)^{2} \\left(f_{xx}\\right)^{2} f_{yy} + \\left(f_{y}\\right)^{2} f_{xx} \\left(f_{xy}\\right)^{2}$$"
      ],
      "text/plain": [
       "<IPython.core.display.Math object>"
      ]
     },
     "metadata": {},
     "output_type": "display_data"
    },
    {
     "data": {
      "text/latex": [
       "$$\\left(f_{x}\\right)^{3} f_{xy} f_{yyy} - \\left(f_{x}\\right)^{3} f_{yy} f_{xyy} - \\left(f_{x}\\right)^{2} f_{y} f_{xx} f_{yyy} - \\left(f_{x}\\right)^{2} f_{y} f_{xy} f_{xyy} + 2 \\left(f_{x}\\right)^{2} f_{y} f_{yy} f_{xxy} + 2 f_{x} \\left(f_{y}\\right)^{2} f_{xx} f_{xyy} - f_{x} \\left(f_{y}\\right)^{2} f_{xy} f_{xxy} - f_{x} \\left(f_{y}\\right)^{2} f_{yy} f_{xxx} - \\left(f_{y}\\right)^{3} f_{xx} f_{xxy} + \\left(f_{y}\\right)^{3} f_{xy} f_{xxx}$$"
      ],
      "text/plain": [
       "<IPython.core.display.Math object>"
      ]
     },
     "metadata": {},
     "output_type": "display_data"
    },
    {
     "data": {
      "text/latex": [
       "$$\\left(f_{x}\\right)^{4} f_{yyyy} - 4 \\left(f_{x}\\right)^{3} f_{y} f_{xyyy} + 6 \\left(f_{x}\\right)^{2} \\left(f_{y}\\right)^{2} f_{xxyy} - 4 f_{x} \\left(f_{y}\\right)^{3} f_{xxxy} + \\left(f_{y}\\right)^{4} f_{xxxx}$$"
      ],
      "text/plain": [
       "<IPython.core.display.Math object>"
      ]
     },
     "metadata": {},
     "output_type": "display_data"
    }
   ],
   "source": [
    "disp(expand(partial_transvectant((f,f,f,f,f),[[0,1],[1,2],[2,3],[3,4]])))\n",
    "disp(expand(partial_transvectant((f,f,f,f,f),[[0,1],[0,2],[0,3],[3,4]])))\n",
    "disp(expand(partial_transvectant((f,f,f,f,f),[[0,1],[0,2],[0,3],[0,4]])))"
   ]
  },
  {
   "cell_type": "code",
   "execution_count": null,
   "metadata": {},
   "outputs": [],
   "source": []
  },
  {
   "cell_type": "markdown",
   "metadata": {},
   "source": [
    "Transvectants:\n",
    "\n",
    "(1) We can use transvectants to create lots of invariants. More than Robert can.\n",
    "(2) We understand the role of weight and degree, and have a nice graph-based picture for all the invariants up to weight 8\n",
    "(3) There is no issue with SA(2), but for A(2) the weight 4 invariants have non-removable singularities. There are three possible solutions: (i) claim you only do this on parts of images, (ii) look at the weight 8 invariants instead, particularly I8_1 and I8_3 which do not have f_x in at all, or I4^2/I8, (iii) consider projection as Robert did. Our preference is (ii) but we haven't done it yet.\n"
   ]
  },
  {
   "cell_type": "markdown",
   "metadata": {},
   "source": [
    "Moving frame:\n",
    "\n",
    "(1) We understand it, but it is still ugly\n",
    "(2) So we just write it as is"
   ]
  },
  {
   "cell_type": "markdown",
   "metadata": {},
   "source": [
    "Hence:\n",
    "\n",
    "We can build all the invariants we need now.\n",
    "We still have a projection issue. And hence a high weight invariant issue. And hence a serious noise problem.\n",
    "\n",
    "But we probably now have enough for a paper. So we should write it. \n",
    "\n"
   ]
  }
 ],
 "metadata": {
  "kernelspec": {
   "display_name": "Python 3",
   "language": "python",
   "name": "python3"
  },
  "language_info": {
   "codemirror_mode": {
    "name": "ipython",
    "version": 3
   },
   "file_extension": ".py",
   "mimetype": "text/x-python",
   "name": "python",
   "nbconvert_exporter": "python",
   "pygments_lexer": "ipython3",
   "version": "3.7.3"
  }
 },
 "nbformat": 4,
 "nbformat_minor": 2
}
