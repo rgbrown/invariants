{
 "cells": [
  {
   "cell_type": "code",
   "execution_count": 1,
   "metadata": {
    "collapsed": true
   },
   "outputs": [],
   "source": [
    "from sympy import *\n",
    "init_printing()"
   ]
  },
  {
   "cell_type": "code",
   "execution_count": 2,
   "metadata": {
    "collapsed": true
   },
   "outputs": [],
   "source": [
    "f_1, f_2 = symbols('f_1, f_2')\n",
    "f_11, f_12, f_22 = symbols('f_11, f_12, f_22')\n",
    "f_111, f_112, f_122, f_222 = symbols('f_111, f_112, f_122, f_222')\n",
    "a, b, c, d, g, h = symbols('a, b, c, d, g, h')"
   ]
  },
  {
   "cell_type": "code",
   "execution_count": 3,
   "metadata": {
    "collapsed": true
   },
   "outputs": [],
   "source": [
    "D = f_1**2*f_22 + f_2**2*f_11 -2*f_1*f_2*f_12\n",
    "d = f_1 / sqrt(D)\n",
    "b = -d*f_2 / f_1\n",
    "h = d*(f_222*f_1**3 - 3*f_1**2*f_2*f_122 - 3*f_1*f_2**2*f_112 + f_2**3*f_111) / (6*f_1*D)\n",
    "c = h*f_1**2/(d*D) - (f_1*f_12 - f_2*f_11)/D\n",
    "a = (1 - c*f_2) / f_1\n",
    "g = 1/(2*f_1**2) * (f_11 + 2*c*(f_1*f_12 - f_2*f_11) + c**2*D)"
   ]
  },
  {
   "cell_type": "code",
   "execution_count": null,
   "metadata": {
    "collapsed": false
   },
   "outputs": [],
   "source": [
    "g_111 = (6*a*g**2*f_1 + 6*c*g**2*f_2 -6*a**2*g*f_11 -12*a*c*g*f_12 - 6*c**2*g*f_22 + \n",
    "         a**3*f_111 + 3*a**2*c*f_112 + 3*a*c**2*f_122 + c**3*f_222)\n",
    "simplify(expand(g_111))"
   ]
  },
  {
   "cell_type": "code",
   "execution_count": null,
   "metadata": {
    "collapsed": true
   },
   "outputs": [],
   "source": []
  }
 ],
 "metadata": {
  "anaconda-cloud": {},
  "kernelspec": {
   "display_name": "Python [Root]",
   "language": "python",
   "name": "Python [Root]"
  },
  "language_info": {
   "codemirror_mode": {
    "name": "ipython",
    "version": 3
   },
   "file_extension": ".py",
   "mimetype": "text/x-python",
   "name": "python",
   "nbconvert_exporter": "python",
   "pygments_lexer": "ipython3",
   "version": "3.5.2"
  }
 },
 "nbformat": 4,
 "nbformat_minor": 0
}
