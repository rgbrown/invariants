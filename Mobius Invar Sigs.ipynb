{
 "cells": [
  {
   "cell_type": "code",
   "execution_count": 1,
   "metadata": {
    "collapsed": false
   },
   "outputs": [
    {
     "name": "stdout",
     "output_type": "stream",
     "text": [
      "Using matplotlib backend: MacOSX\n"
     ]
    }
   ],
   "source": [
    "from __future__ import division\n",
    "import numpy as np\n",
    "import matplotlib.pyplot as plt\n",
    "from numpy.random import rand, randn\n",
    "\n",
    "def smash_big(x, num):\n",
    "    x[np.where(x > num)] = 0\n",
    "    x[np.where(x < -num)] = 0\n",
    "\n",
    "%matplotlib "
   ]
  },
  {
   "cell_type": "markdown",
   "metadata": {},
   "source": [
    "# Mobius invariant signatures\n",
    "\n",
    "We are using the four invariants:\n",
    "* $J_1 = f_i f_i$\n",
    "* $J_2 = f_{ii}$\n",
    "\n",
    "Actually, these two aren't invariants. There's a third thing, called $J_3$ in Robert's notes, and we can get the two conformal invariants by projecting these onto the unit sphere. Attempted in code below, taking spherical polar angles as the invariants. Note use of `nan_to_num` to ignore problems.\n",
    "* $J_3 = \\frac{n \\cdot \\nabla(\\nabla \\times n)}{\\| \\nabla f \\|^2}$\n",
    "* $J_4 = \\frac{n \\times \\nabla(\\nabla \\cdot n)}{\\| \\nabla f \\|^2}$\n",
    "\n",
    "Actually, these aren't the invariants. The last two are"
   ]
  },
  {
   "cell_type": "code",
   "execution_count": 11,
   "metadata": {
    "collapsed": false
   },
   "outputs": [],
   "source": [
    "def Mobsignature(F, h=1, tol=0):\n",
    "    \"\"\" Compute the Mobius signature components\"\"\"\n",
    "    Fx, Fy = np.gradient(F, h)\n",
    "    Fxx, Fxy = np.gradient(Fx, h)\n",
    "    Fyx, Fyy = np.gradient(Fy, h)\n",
    "    normaliser = np.sqrt(Fx*Fx + Fy*Fy)\n",
    "    \n",
    "    # Do the easy ones\n",
    "    J1 = Fx*Fx + Fy*Fy \n",
    "    J2 = Fxx + Fyy\n",
    "    g = J2 / J1\n",
    "    gx, gy = np.gradient(g, h)\n",
    "    \n",
    "    J3 = np.nan_to_num(J1 * (np.real((gx + 1J*gy)/(Fx + 1J*Fy)))**(1/3))\n",
    "    \n",
    "    # Project these onto a sphere\n",
    "    denom = np.sqrt(J1*J1 + J2*J2 + J3*J3)\n",
    "    J1t, J2t, J3t = J1/denom, J2/denom, J3/denom\n",
    "    \n",
    "    I1 = np.arccos(J3t)\n",
    "    I2 = np.arctan(J2t / J1t)\n",
    "    \n",
    "    # Compute n\n",
    "    n = 1/normaliser * np.array([Fx,Fy])\n",
    "    \n",
    "    # Compute J3\n",
    "    curl = np.gradient(n[1], h)[0] - np.gradient(n[0], h)[1]\n",
    "    curl_x, curl_y = np.gradient(curl, h)\n",
    "    I3 = 1 / J1 * (n[0]*curl_x + n[1]*curl_y)\n",
    "    #I3 = J1 / (n[0]*curl_x + n[1]*curl_y)\n",
    "    \n",
    "    # Compute J4\n",
    "    divergence = np.gradient(n[0], h)[0] + np.gradient(n[1], h)[1]\n",
    "    divergence_x, divergence_y = np.gradient(divergence, h)\n",
    "    I4 = 1 / J1 * (n[0]*divergence_y - n[1]*divergence_x)\n",
    "    #I4 = J1 / (n[0]*divergence_y - n[1]*divergence_x)\n",
    "    \n",
    "    \n",
    "#    J3 = (-Fx*Fxxy + Fx*Fxyy - Fy*Fxyy + Fy*Fyyy)/(normaliser**2)\n",
    "#    J4 = (Fx*Fxxy + Fx*Fyyy - Fxxx*Fy - Fy*Fxyy)/(normaliser**2)\n",
    "    \n",
    "    idx = np.where(Fx*Fx + Fy*Fy < tol)\n",
    "    I1[idx] = 0\n",
    "    I2[idx] = 0\n",
    "    I3[idx] = 0\n",
    "    I4[idx] = 0\n",
    "    return F, I1, I2, I3, I4\n"
   ]
  },
  {
   "cell_type": "markdown",
   "metadata": {},
   "source": [
    "## Test image\n",
    "We use as our test function the function `f(x, y)` defined below"
   ]
  },
  {
   "cell_type": "code",
   "execution_count": 3,
   "metadata": {
    "collapsed": false
   },
   "outputs": [
    {
     "data": {
      "text/plain": [
       "<matplotlib.image.AxesImage at 0x11626e6d0>"
      ]
     },
     "execution_count": 3,
     "metadata": {},
     "output_type": "execute_result"
    }
   ],
   "source": [
    "def f(x, y):\n",
    "    return np.exp(-4*x**2 -8*(y-0.2*x - 0.8*x**2)**2)\n",
    "\n",
    "h = 1e-3\n",
    "xmin, xmax = -1, 1\n",
    "ymin, ymax = -1, 1\n",
    "x = np.arange(xmin, xmax, h)\n",
    "y = np.arange(ymin, ymax, h)\n",
    "X, Y = np.meshgrid(x, y)\n",
    "F0 = f(X, Y)\n",
    "plt.imshow(F0, extent=(xmin, xmax, ymin, ymax))"
   ]
  },
  {
   "cell_type": "markdown",
   "metadata": {},
   "source": [
    "## Transformation\n",
    "We generate a transformation \n"
   ]
  },
  {
   "cell_type": "code",
   "execution_count": 4,
   "metadata": {
    "collapsed": false
   },
   "outputs": [],
   "source": [
    "from numpy.random import rand, randn\n",
    "\n",
    "a = np.complex(0.9,0.1)\n",
    "b = 0.1\n",
    "c = np.complex(.1,0.4)\n",
    "d = 1\n"
   ]
  },
  {
   "cell_type": "markdown",
   "metadata": {},
   "source": [
    "The image and its transformation are plotted below\n"
   ]
  },
  {
   "cell_type": "code",
   "execution_count": 12,
   "metadata": {
    "collapsed": false
   },
   "outputs": [
    {
     "data": {
      "text/plain": [
       "<matplotlib.text.Text at 0x11c6c8a50>"
      ]
     },
     "execution_count": 12,
     "metadata": {},
     "output_type": "execute_result"
    }
   ],
   "source": [
    "phi = (a*(X+Y*1j) + b)/(c*(X+Y*1j)+d)\n",
    "#print np.real(phi)\n",
    "\n",
    "F1 = f(np.real(phi),np.imag(phi))\n",
    "\n",
    "fig, axarr = plt.subplots(1, 2)\n",
    "axarr[0].imshow(F0, extent=(xmin, xmax, ymin, ymax))\n",
    "axarr[0].set_xlabel('Before transformation')\n",
    "axarr[1].imshow(F1, extent=(xmin, xmax, ymin, ymax))\n",
    "axarr[1].set_xlabel('After transformation')"
   ]
  },
  {
   "cell_type": "code",
   "execution_count": 13,
   "metadata": {
    "collapsed": false
   },
   "outputs": [
    {
     "name": "stderr",
     "output_type": "stream",
     "text": [
      "/Users/rgbrown/anaconda/lib/python2.7/site-packages/IPython/kernel/__main__.py:14: RuntimeWarning: invalid value encountered in power\n"
     ]
    },
    {
     "data": {
      "text/plain": [
       "(-1.0, 1.0, -1.0, 1.0)"
      ]
     },
     "execution_count": 13,
     "metadata": {},
     "output_type": "execute_result"
    }
   ],
   "source": [
    "contour_levels = [-100, -1, -0.25, 0, 0.25, 1, 100]\n",
    "contour_colours = ('red','red','red','green','black','black','black')\n",
    "plt.figure()\n",
    "sig0 = Mobsignature(F0, h)\n",
    "sig1 = Mobsignature(F1, h)\n",
    "\n",
    "#thresh = 3\n",
    "#smash_big(sig0[3], thresh)\n",
    "#smash_big(sig0[4], thresh)\n",
    "#smash_big(sig1[3], thresh)\n",
    "#smash_big(sig1[4], thresh)\n",
    "\n",
    "plt.figure()\n",
    "plt.contour(X,Y,F0,levels=np.linspace(.1,.9,9),colors='blue')\n",
    "plt.contour(X,Y, sig0[3], levels=contour_levels, colors=contour_colours)\n",
    "plt.axis('equal')\n",
    "\n",
    "plt.figure()\n",
    "plt.contour(X,Y,F1,levels=np.linspace(.1,.9,9),colors='blue')\n",
    "plt.contour(X,Y, sig1[3], levels=contour_levels, colors=contour_colours)\n",
    "plt.axis('equal')"
   ]
  },
  {
   "cell_type": "markdown",
   "metadata": {
    "collapsed": false
   },
   "source": [
    "## Compare signatures of the two images\n",
    "We compare the signatures for a few contours (with respect to the function value)\n"
   ]
  },
  {
   "cell_type": "code",
   "execution_count": 10,
   "metadata": {
    "collapsed": false
   },
   "outputs": [
    {
     "data": {
      "text/plain": [
       "<matplotlib.contour.QuadContourSet instance at 0x117c1de18>"
      ]
     },
     "execution_count": 10,
     "metadata": {},
     "output_type": "execute_result"
    }
   ],
   "source": [
    "# choose which two signature components: 0 is F, 1 is J1, 2 is J2, etc.\n",
    "\n",
    "i0 = 3\n",
    "i1 = 4\n",
    "\n",
    "\n",
    "\n",
    "contour_levels = (0.2, 0.4, 0.6, 0.8)\n",
    "plt.figure()\n",
    "plt.contour(sig0[i0], sig0[i1], sig0[0], levels=contour_levels)\n",
    "plt.figure()\n",
    "plt.contour(sig1[i0], sig1[i1], sig1[0], levels=contour_levels)\n"
   ]
  },
  {
   "cell_type": "code",
   "execution_count": 29,
   "metadata": {
    "collapsed": false
   },
   "outputs": [
    {
     "data": {
      "text/plain": [
       "99.999174446755575"
      ]
     },
     "execution_count": 29,
     "metadata": {},
     "output_type": "execute_result"
    }
   ],
   "source": [
    "smash_big(sig0[3], 1000)\n",
    "sig0[3].max()"
   ]
  },
  {
   "cell_type": "code",
   "execution_count": null,
   "metadata": {
    "collapsed": true
   },
   "outputs": [],
   "source": []
  }
 ],
 "metadata": {
  "kernelspec": {
   "display_name": "Python 2",
   "language": "python",
   "name": "python2"
  },
  "language_info": {
   "codemirror_mode": {
    "name": "ipython",
    "version": 2
   },
   "file_extension": ".py",
   "mimetype": "text/x-python",
   "name": "python",
   "nbconvert_exporter": "python",
   "pygments_lexer": "ipython2",
   "version": "2.7.10"
  }
 },
 "nbformat": 4,
 "nbformat_minor": 0
}
