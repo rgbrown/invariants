{
 "cells": [
  {
   "cell_type": "markdown",
   "metadata": {},
   "source": [
    "# All about transvectants\n",
    "We're going to have another crack at getting the partial transvectants formulation up and running.\n",
    "\n",
    "Our basic object is a function of two variables $P(x, y)$. We can combine these using the $\\otimes$ operation defined by\n",
    "\\begin{equation*}\n",
    "    (P \\otimes Q)(x_1, y_1, x_2, y_2) = P(x_1, y_1) P(x_2, y_2)\n",
    "\\end{equation*}\n",
    "This can be extended to multiple functions\n",
    "\\begin{equation*}\n",
    "    (Q_1 \\otimes Q_2 \\otimes \\cdots \\otimes Q_n)(x_1, y_1, x_2, y_2, \\cdots, x_n, y_n) =\n",
    "    Q_1(x_1, y_1) Q_2(x_2, y_2) \\cdots Q_n(x_n, y_n)\n",
    "\\end{equation*}"
   ]
  },
  {
   "cell_type": "code",
   "execution_count": 5,
   "metadata": {
    "collapsed": true
   },
   "outputs": [],
   "source": [
    "import sympy\n",
    "sympy.init_printing()\n",
    "import numpy as np\n",
    "from IPython.display import display"
   ]
  },
  {
   "cell_type": "code",
   "execution_count": 6,
   "metadata": {
    "collapsed": false
   },
   "outputs": [],
   "source": [
    "def xy_symbols(n):\n",
    "    \"\"\"\n",
    "    Construct interleaved vector of symbols [x0, y0, x1, y1, ..., xn-1, yn-1]\n",
    "    \"\"\"\n",
    "    \n",
    "    x_symbols = sympy.symbols('x0:%d'%n)\n",
    "    y_symbols = sympy.symbols('y0:%d'%n)\n",
    "    return np.vstack((x_symbols, y_symbols)).T.flatten() # interleave x and y\n",
    "    \n",
    "\n",
    "class funky:\n",
    "    def __init__(self, fun, n):\n",
    "        self.fun = fun\n",
    "        self.n = n\n",
    "    \n",
    "    def __call__(self, *xvec):\n",
    "        return self.fun(*xvec)\n",
    "    \n",
    "def otimes(*funs):\n",
    "    n = 0\n",
    "    for fun in funs:\n",
    "        n += fun.n\n",
    "    \n",
    "    def evaluate(*xvec):\n",
    "        out = 1\n",
    "        idx = 0\n",
    "        for fun in funs:\n",
    "            out *= fun(*xvec[idx:(idx + fun.n)])\n",
    "            idx += fun.n\n",
    "        return out\n",
    "    return funky(evaluate, n)\n",
    "\n",
    "def trace(funkyfun):\n",
    "    def evaluate(x, y):\n",
    "        return funkyfun(*np.tile((x, y), int(funkyfun.n/2)))\n",
    "    return funky(evaluate, 2)\n",
    "\n",
    "\n",
    "def omega(funkyfun, *args):\n",
    "    xy = xy_symbols(int(funkyfun.n/2))\n",
    "    out = funkyfun(*xy)\n",
    "    for a, b in args:\n",
    "        out = (sympy.diff(out, xy[2*a], xy[2*b+1]) -\n",
    "               sympy.diff(out, xy[2*b], xy[2*a+1]))\n",
    "    \n",
    "    def evaluate(*xvec):\n",
    "        return out.subs([(xy[i], xvec[i]) for i in range(funkyfun.n)])\n",
    "    return funky(evaluate, funkyfun.n)"
   ]
  },
  {
   "cell_type": "code",
   "execution_count": 7,
   "metadata": {
    "collapsed": false
   },
   "outputs": [
    {
     "data": {
      "image/png": "[encoded data removed]",
      "text/latex": [
       "$$Q{\\left (x_{0},y_{0} \\right )} Q{\\left (x_{1},y_{1} \\right )} Q{\\left (x_{2},y_{2} \\right )}$$"
      ],
      "text/plain": [
       "Q(x₀, y₀)⋅Q(x₁, y₁)⋅Q(x₂, y₂)"
      ]
     },
     "metadata": {},
     "output_type": "display_data"
    },
    {
     "data": {
      "image/png": "[encoded data removed]",
      "text/latex": [
       "$$Q{\\left (x_{2},y_{2} \\right )} \\frac{\\partial}{\\partial x_{0}} Q{\\left (x_{0},y_{0} \\right )} \\frac{\\partial}{\\partial y_{1}} Q{\\left (x_{1},y_{1} \\right )} - Q{\\left (x_{2},y_{2} \\right )} \\frac{\\partial}{\\partial y_{0}} Q{\\left (x_{0},y_{0} \\right )} \\frac{\\partial}{\\partial x_{1}} Q{\\left (x_{1},y_{1} \\right )}$$"
      ],
      "text/plain": [
       "           ∂              ∂                          ∂              ∂         \n",
       "Q(x₂, y₂)⋅───(Q(x₀, y₀))⋅───(Q(x₁, y₁)) - Q(x₂, y₂)⋅───(Q(x₀, y₀))⋅───(Q(x₁, y\n",
       "          ∂x₀            ∂y₁                        ∂y₀            ∂x₁        \n",
       "\n",
       "   \n",
       "₁))\n",
       "   "
      ]
     },
     "metadata": {},
     "output_type": "display_data"
    },
    {
     "data": {
      "image/png": "[encoded data removed]",
      "text/latex": [
       "$$\\frac{\\partial}{\\partial x} Q{\\left (x,y \\right )}^{2} \\frac{\\partial^{2}}{\\partial y^{2}}  Q{\\left (x,y \\right )} - 2 \\frac{\\partial}{\\partial x} Q{\\left (x,y \\right )} \\frac{\\partial}{\\partial y} Q{\\left (x,y \\right )} \\frac{\\partial^{2}}{\\partial x\\partial y}  Q{\\left (x,y \\right )} + \\frac{\\partial}{\\partial y} Q{\\left (x,y \\right )}^{2} \\frac{\\partial^{2}}{\\partial x^{2}}  Q{\\left (x,y \\right )}$$"
      ],
      "text/plain": [
       "             2   2                                         2                  \n",
       "⎛∂          ⎞   ∂               ∂           ∂             ∂              ⎛∂   \n",
       "⎜──(Q(x, y))⎟ ⋅───(Q(x, y)) - 2⋅──(Q(x, y))⋅──(Q(x, y))⋅─────(Q(x, y)) + ⎜──(Q\n",
       "⎝∂x         ⎠    2              ∂x          ∂y          ∂y ∂x            ⎝∂y  \n",
       "               ∂y                                                             \n",
       "\n",
       "        2   2         \n",
       "       ⎞   ∂          \n",
       "(x, y))⎟ ⋅───(Q(x, y))\n",
       "       ⎠    2         \n",
       "          ∂x          "
      ]
     },
     "execution_count": 7,
     "metadata": {},
     "output_type": "execute_result"
    }
   ],
   "source": [
    "x0, x1, x2 = sympy.symbols('x0, x1, x2')\n",
    "y0, y1, y2 = sympy.symbols('y0, y1, y2')\n",
    "\n",
    "x, y, z, w = sympy.symbols('x y z w')\n",
    "p = sympy.Function('P')\n",
    "q = sympy.Function('Q')\n",
    "r = sympy.Function('R')\n",
    "\n",
    "fn = funky(p, 2)\n",
    "gn = funky(q, 2)\n",
    "hn = funky(r, 2)\n",
    "fg = otimes(gn, gn, gn)\n",
    "xvec = (x0, y0, x1, y1, x2, y2)\n",
    "display(fg(*xvec))\n",
    "display(omega(fg, (0, 1))(*xvec))\n",
    "sympy.expand(trace(omega(fg, (0, 2), (1, 2)))(x, y))\n"
   ]
  },
  {
   "cell_type": "markdown",
   "metadata": {},
   "source": []
  },
  {
   "cell_type": "code",
   "execution_count": 8,
   "metadata": {
    "collapsed": false
   },
   "outputs": [
    {
     "data": {
      "image/png": "[encoded data removed]",
      "text/latex": [
       "$$2 \\frac{\\partial^{2}}{\\partial x^{2}}  f{\\left (x,y \\right )} \\frac{\\partial^{2}}{\\partial y^{2}}  f{\\left (x,y \\right )} - 2 \\frac{\\partial^{2}}{\\partial x\\partial y}  f{\\left (x,y \\right )}^{2}$$"
      ],
      "text/plain": [
       "                                                2\n",
       "    2            2              ⎛   2          ⎞ \n",
       "   ∂            ∂               ⎜  ∂           ⎟ \n",
       "2⋅───(f(x, y))⋅───(f(x, y)) - 2⋅⎜─────(f(x, y))⎟ \n",
       "    2            2              ⎝∂y ∂x         ⎠ \n",
       "  ∂x           ∂y                                "
      ]
     },
     "metadata": {},
     "output_type": "display_data"
    },
    {
     "data": {
      "image/png": "[encoded data removed]",
      "text/latex": [
       "$$\\frac{\\partial}{\\partial x} f{\\left (x,y \\right )}^{2} \\frac{\\partial^{2}}{\\partial y^{2}}  f{\\left (x,y \\right )} - 2 \\frac{\\partial}{\\partial x} f{\\left (x,y \\right )} \\frac{\\partial}{\\partial y} f{\\left (x,y \\right )} \\frac{\\partial^{2}}{\\partial x\\partial y}  f{\\left (x,y \\right )} + \\frac{\\partial}{\\partial y} f{\\left (x,y \\right )}^{2} \\frac{\\partial^{2}}{\\partial x^{2}}  f{\\left (x,y \\right )}$$"
      ],
      "text/plain": [
       "             2   2                                         2                  \n",
       "⎛∂          ⎞   ∂               ∂           ∂             ∂              ⎛∂   \n",
       "⎜──(f(x, y))⎟ ⋅───(f(x, y)) - 2⋅──(f(x, y))⋅──(f(x, y))⋅─────(f(x, y)) + ⎜──(f\n",
       "⎝∂x         ⎠    2              ∂x          ∂y          ∂y ∂x            ⎝∂y  \n",
       "               ∂y                                                             \n",
       "\n",
       "        2   2         \n",
       "       ⎞   ∂          \n",
       "(x, y))⎟ ⋅───(f(x, y))\n",
       "       ⎠    2         \n",
       "          ∂x          "
      ]
     },
     "metadata": {},
     "output_type": "display_data"
    },
    {
     "data": {
      "image/png": "[encoded data removed]",
      "text/latex": [
       "$$\\frac{\\partial^{2}}{\\partial x^{2}}  f{\\left (x,y \\right )}^{2} \\frac{\\partial^{4}}{\\partial y^{4}}  f{\\left (x,y \\right )} - 4 \\frac{\\partial^{2}}{\\partial x^{2}}  f{\\left (x,y \\right )} \\frac{\\partial^{2}}{\\partial x\\partial y}  f{\\left (x,y \\right )} \\frac{\\partial^{4}}{\\partial x\\partial y^{3}}  f{\\left (x,y \\right )} + 2 \\frac{\\partial^{2}}{\\partial x^{2}}  f{\\left (x,y \\right )} \\frac{\\partial^{2}}{\\partial y^{2}}  f{\\left (x,y \\right )} \\frac{\\partial^{4}}{\\partial x^{2}\\partial y^{2}}  f{\\left (x,y \\right )} + 4 \\frac{\\partial^{2}}{\\partial x\\partial y}  f{\\left (x,y \\right )}^{2} \\frac{\\partial^{4}}{\\partial x^{2}\\partial y^{2}}  f{\\left (x,y \\right )} - 4 \\frac{\\partial^{2}}{\\partial x\\partial y}  f{\\left (x,y \\right )} \\frac{\\partial^{2}}{\\partial y^{2}}  f{\\left (x,y \\right )} \\frac{\\partial^{4}}{\\partial x^{3}\\partial y}  f{\\left (x,y \\right )} + \\frac{\\partial^{2}}{\\partial y^{2}}  f{\\left (x,y \\right )}^{2} \\frac{\\partial^{4}}{\\partial x^{4}}  f{\\left (x,y \\right )}$$"
      ],
      "text/plain": [
       "              2                                                               \n",
       "⎛  2         ⎞    4                2             2              4             \n",
       "⎜ ∂          ⎟   ∂                ∂             ∂              ∂              \n",
       "⎜───(f(x, y))⎟ ⋅───(f(x, y)) - 4⋅───(f(x, y))⋅─────(f(x, y))⋅──────(f(x, y)) +\n",
       "⎜  2         ⎟    4                2          ∂y ∂x            3              \n",
       "⎝∂x          ⎠  ∂y               ∂x                          ∂y  ∂x           \n",
       "\n",
       "                                                                  2           \n",
       "     2            2              4                ⎛   2          ⎞      4     \n",
       "    ∂            ∂              ∂                 ⎜  ∂           ⎟     ∂      \n",
       " 2⋅───(f(x, y))⋅───(f(x, y))⋅───────(f(x, y)) + 4⋅⎜─────(f(x, y))⎟ ⋅───────(f(\n",
       "     2            2            2   2              ⎝∂y ∂x         ⎠    2   2   \n",
       "   ∂x           ∂y           ∂y  ∂x                                 ∂y  ∂x    \n",
       "\n",
       "                                                                       2      \n",
       "              2             2             4              ⎛  2         ⎞    4  \n",
       "             ∂             ∂             ∂               ⎜ ∂          ⎟   ∂   \n",
       "x, y)) - 4⋅─────(f(x, y))⋅───(f(x, y))⋅──────(f(x, y)) + ⎜───(f(x, y))⎟ ⋅───(f\n",
       "           ∂y ∂x            2               3            ⎜  2         ⎟    4  \n",
       "                          ∂y           ∂y ∂x             ⎝∂y          ⎠  ∂x   \n",
       "\n",
       "       \n",
       "       \n",
       "       \n",
       "(x, y))\n",
       "       \n",
       "       "
      ]
     },
     "metadata": {},
     "output_type": "display_data"
    }
   ],
   "source": [
    "f = funky(sympy.Function('f'), 2)\n",
    "f2 = otimes(f, f)\n",
    "f3 = otimes(f, f, f)\n",
    "f4 = otimes(f, f, f, f)\n",
    "I1 = trace(omega(f2, (0, 1), (0, 1)))\n",
    "I2 = trace(omega(f3, (0, 2), (1, 2)))\n",
    "I3 = trace(omega(f3, (0, 2), (0, 2), (0, 1), (0, 1)))\n",
    "#I3 = trace(omega(f4, (0, 3), (1, 2), (0, 1), (2, 3)))\n",
    "display(I1(x, y))\n",
    "display(sympy.expand(I2(x, y)))\n",
    "display(sympy.expand(I3(x, y)))\n",
    "\n"
   ]
  },
  {
   "cell_type": "code",
   "execution_count": 176,
   "metadata": {
    "collapsed": false
   },
   "outputs": [],
   "source": [
    "foo = sympy.diff(f(x, y), x)"
   ]
  }
 ],
 "metadata": {
  "anaconda-cloud": {},
  "kernelspec": {
   "display_name": "Python [default]",
   "language": "python",
   "name": "python3"
  },
  "language_info": {
   "codemirror_mode": {
    "name": "ipython",
    "version": 3
   },
   "file_extension": ".py",
   "mimetype": "text/x-python",
   "name": "python",
   "nbconvert_exporter": "python",
   "pygments_lexer": "ipython3",
   "version": "3.5.2"
  }
 },
 "nbformat": 4,
 "nbformat_minor": 1
}
