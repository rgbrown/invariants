{
 "cells": [
  {
   "cell_type": "code",
   "execution_count": 1,
   "metadata": {
    "collapsed": false
   },
   "outputs": [],
   "source": [
    "from __future__ import division\n",
    "import numpy as np\n",
    "import matplotlib.pyplot as plt\n",
    "from numpy.random import rand, randn\n",
    "\n",
    "%matplotlib inline"
   ]
  },
  {
   "cell_type": "markdown",
   "metadata": {},
   "source": [
    "# SA(2) invariant signatures\n",
    "We are considering transformations in $SA(2)$ of the following form:\n",
    "\n",
    "\\begin{equation}\n",
    "   \\hat{x}_i = a_{ij} x_j + b_i\n",
    "\\end{equation}\n",
    "\n",
    "where $\\det a = 1$, or in vector notation $\\hat{x} = Ax + b$, $\\det A = 1$. Our image $f : \\mathbb{R}^2 \\mapsto \\mathbb{R}$ transforms as $f(x) = \\hat{f}(\\hat{x})$. Then, we have the following:\n",
    "\n",
    "\\begin{align}\n",
    "    f_{,i} &= \\hat{f}_{,k}a_{ki}, & \\nabla{f} &= A^T \\nabla{\\hat{f}} \\\\\n",
    "    f_{,ij} &= \\hat{f}_{,kl} a_{ki} a_{lj} & \\nabla^2 f &= A^T \\nabla^2 \\hat{f} A\n",
    "\\end{align}\n",
    "\n",
    "We can see that in vector notation, we have the following invariants under SA(2) (at $x$ on the left and $\\hat{x}$ on the right:\n",
    "1. $I_0 = f(x) = \\hat{f}(\\hat{x})$\n",
    "2. $I_1 = \\det \\nabla^2 f(x) = \\det(A^T)\\det \\nabla^2 \\hat{f} \\det(A) = \\det \\nabla^2 \\hat{f}$\n",
    "3. $I_2 =(\\nabla f)^T (\\nabla^2 f)^{-1} (\\nabla f) = (\\nabla \\hat{f})^T A A^{-1} (\\nabla^2 \\hat{f})^{-1} A^{-T} A^T \\nabla{\\hat f} = (\\nabla \\hat{f})^T (\\nabla^2 \\hat{f})^{-1} \\nabla \\hat{f}$\n",
    "\n",
    "The third invariant is in fact invariant under $A(2)$, not just $SA(2)$. However, for $SA(2)$ we can replace it with a polynomial by multiplying by $\\det \\nabla^2 f$, in which case $(\\nabla^2 f)^{-1}$ is replaced by $\\text{adj} \\nabla^2 f$.\n",
    "\n",
    "3a. $I_2 = (\\nabla f)^T \\text{adj} \\nabla^2 f \\nabla f = f_{yy} f_x^2 - 2f_{xy}f_x f_y + f_{xx} f_y^2 $\n",
    "\n",
    "## Update: transvectants\n",
    "Let's also check to see whether Robert's transvectant formulae also work (the first two being ones we already know):\n",
    "1. $f_{xx} f_{yy} - f_{xy}^2$\n",
    "2. $f_y^2 f_{xx} - 2f_x f_y f_{xy} + f_x^2 f_{yy}$\n",
    "3. $f_{yy} f_{xxy}^2 - f_{yy} f_{xxx} f_{xyy} - f_{xy} f_{xxy} f_{xyy} + f_{xx} f_{xyy}^2 + f_{xy} f_{xxx} f_{yyy} - f_{xx} f_{xxy} f_{yyy}$\n",
    "4. $f_y f_{yy} f_{xxx} - 2f_y f_{xy} f_{xxy} - f_x f_{yy} f_{xxy} + f_y  f_{xx} f_{xyy} + 2f_x f_{xy} f_{xyy} - f_x  f_{xx} f_{yyy}$"
   ]
  },
  {
   "cell_type": "code",
   "execution_count": 2,
   "metadata": {
    "collapsed": false
   },
   "outputs": [],
   "source": [
    "def SA2transvectants(F, h=1):\n",
    "    \"\"\" All the degree three and lower transvectants\"\"\"\n",
    "    Fx, Fy = np.gradient(F, h)\n",
    "    Fxx, Fxy = np.gradient(Fx, h)\n",
    "    Fyx, Fyy = np.gradient(Fy, h)\n",
    "    Fxxx, Fxxy = np.gradient(Fxx, h)\n",
    "    Fxyx, Fxyy = np.gradient(Fxy, h)\n",
    "    Fyyx, Fyyy = np.gradient(Fyy, h)\n",
    "    \n",
    "    I0 = F\n",
    "    I1 = Fxx*Fyy - Fxy**2\n",
    "    I2 = Fy**2*Fxx - 2*Fx*Fy*Fxy + Fx**2*Fyy\n",
    "    I3 = Fyy*Fxxy**2 - Fyy*Fxxx*Fxyy - Fxy*Fxxy*Fxyy + Fxx*Fxyy**2 + Fxy*Fxxx*Fyyy - Fxx*Fxxy*Fyyy\n",
    "    I4 = Fy*Fyy*Fxxx - 2*Fy*Fxy*Fxxy - Fx*Fyy*Fxxy + Fy*Fxx*Fxyy + 2*Fx*Fxy*Fxyy - Fx*Fxx*Fyyy\n",
    "    \n",
    "    return (I0, I1, I2, I3, I4)"
   ]
  },
  {
   "cell_type": "markdown",
   "metadata": {},
   "source": [
    "## Currents\n",
    "\n",
    "The currents formulae are defined below. Currently quick and dirty, needs some spit and polish.\n"
   ]
  },
  {
   "cell_type": "code",
   "execution_count": 63,
   "metadata": {
    "collapsed": false
   },
   "outputs": [],
   "source": [
    "def triangle_areas(X, Y):\n",
    "    lower = 0.5 * (X[0:-1, 1:] * (Y[1:, 0:-1] - Y[1:, 1:]) + \n",
    "                   X[1:, 0:-1] * (Y[1:, 1:] - Y[0:-1, 1:]) +\n",
    "                   X[1:, 1:] * (Y[0:-1, 1:] - Y[1:, 0:-1]))\n",
    "        \n",
    "    upper = 0.5 * (X[0:-1, 0:-1] * (Y[1:, 0:-1] - Y[1:, 1:]) + \n",
    "                   X[1:, 0:-1] * (Y[1:, 1:] - Y[0:-1, 0:-1]) +\n",
    "                   X[1:, 1:] * (Y[0:-1, 0:-1] - Y[1:, 0:-1]))\n",
    "        \n",
    "    return lower, upper\n",
    "\n",
    "def compute_centroids(I):\n",
    "    lower = 1./3. * (I[0:-1, 1:] + I[1:, 0:-1] + I[1:, 1:])\n",
    "    upper = 1./3. * (I[0:-1, 0:-1] + I[0:-1, 1:] + I[1:, 0:-1])\n",
    "    return lower, upper\n",
    "\n",
    "\n",
    "def currents(invariants, N):\n",
    "    centroids = [compute_centroids(I) for I in invariants]\n",
    "    \n",
    "    I0, I1, I2 = invariants[:]\n",
    "    dxdy_l, dxdy_u = triangle_areas(I0, I1)\n",
    "    dydz_l, dydz_u = triangle_areas(I1, I2)\n",
    "    dxdz_l, dxdz_u = triangle_areas(I0, I2)\n",
    "    \n",
    "    C = []\n",
    "    for m in range(N + 1):\n",
    "        for n in range(N + 1 - m):\n",
    "            for k in range(N + 1 - m - n):\n",
    "                integrand_l = centroids[0][0]**m * centroids[1][0]**n * centroids[2][0]**k \n",
    "                integrand_u = centroids[0][1]**m * centroids[1][1]**n * centroids[2][1]**k\n",
    "           \n",
    "                C.append([m, n, k, 1, (integrand_l * dxdy_l + integrand_u * dxdy_u).sum()])\n",
    "                C.append([m, n, k, 2, (integrand_l * dydz_l + integrand_u * dydz_u).sum()])\n",
    "                C.append([m, n, k, 3, (integrand_l * dxdz_l + integrand_u * dxdz_u).sum()])\n",
    "    xc = np.array([c[4] for c in C])\n",
    "    return xc"
   ]
  },
  {
   "cell_type": "markdown",
   "metadata": {},
   "source": [
    "## Random Transformations\n",
    "We generate a random equiaffine transformation $x \\mapsto Ax + b$, $\\det A = 1$ using the `RandomEquiaffine` class, and we generate random noise by adding on some random trigonometric terms. The noise should be done more nicely by specifying a PSD, and then inverting the Fourier transform, but my brain was hurting. Marking this as a TODO.\n"
   ]
  },
  {
   "cell_type": "code",
   "execution_count": 171,
   "metadata": {
    "collapsed": false
   },
   "outputs": [],
   "source": [
    "from numpy.random import rand, randn\n",
    "from scipy.fftpack import ifft2\n",
    "\n",
    "class RandomEquiaffine():\n",
    "    def __init__(self):\n",
    "        self.A =  np.eye(2) + np.random.rand(2,2)\n",
    "        if np.linalg.det(self.A) < 0:\n",
    "            self.A[:, 1] = -self.A[:, 1]\n",
    "        self.A = self.A / np.sqrt(np.linalg.det(self.A))\n",
    "        self.b = 0.2 * randn(2)\n",
    "        self.Ainv = np.linalg.inv(self.A)\n",
    "        self.binv = -np.linalg.solve(self.A, self.b)\n",
    "    \n",
    "    def forward_transform(self, f, X, Y):\n",
    "        return f(self.Ainv[0,0]*X + self.Ainv[0,1]*Y + self.binv[0], \n",
    "                 self.Ainv[1,0]*X + self.Ainv[1,1]*Y + self.binv[1])\n",
    "\n",
    "# TODO: do this with DFT\n",
    "def rand_noise(shape, var=1, n_trig=10, beta=10):\n",
    "    m, n = shape\n",
    "    m_freq = np.arange(m) / m\n",
    "    n_freq = np.arange(n) / n\n",
    "    Mf, Nf = np.meshgrid(m_freq, n_freq)\n",
    "    W = np.zeros(shape)\n",
    "    for i in range(n_trig):\n",
    "        W = W + np.sqrt(var) / np.sqrt(n_trig) * np.cos(beta*rand()*Mf + 2*np.pi*rand()) * np.cos(beta*rand()*Nf + 2*np.pi*rand())\n",
    "    return W\n",
    "    "
   ]
  },
  {
   "cell_type": "markdown",
   "metadata": {},
   "source": [
    "# Numerical Experiment\n",
    "We define two functions that look visually similar, transform them under noise, and then try to classify using currents. This block defines the two functions and plots them. oooh."
   ]
  },
  {
   "cell_type": "code",
   "execution_count": 185,
   "metadata": {
    "collapsed": false
   },
   "outputs": [
    {
     "data": {
      "text/plain": [
       "<matplotlib.text.Text at 0x30657d68>"
      ]
     },
     "execution_count": 185,
     "metadata": {},
     "output_type": "execute_result"
    },
    {
     "data": {
      "image/png": "[encoded data removed]",
      "text/plain": [
       "<matplotlib.figure.Figure at 0x1abd3860>"
      ]
     },
     "metadata": {},
     "output_type": "display_data"
    }
   ],
   "source": [
    "def f(x, y):\n",
    "    return 0.5*(1 + np.sin(4*x) * np.cos(7*y)) * 2*np.exp(-10*((x - 0.1)**2 + (y+0.2)**2))\n",
    "\n",
    "def g(x, y):\n",
    "    return 0.5*(1 + np.sin(5*x) * np.cos(6*y)) * 2*np.exp(-12*((x - 0.1)**2 + (y+0.2)**2))\n",
    "\n",
    "h = 0.01\n",
    "X, Y = np.meshgrid(np.arange(-1.5, 1.5, h), np.arange(-1.5, 1.5, h))\n",
    "F0 = f(X, Y)\n",
    "G0 = g(X, Y)\n",
    "plt.subplot(1, 2, 1)\n",
    "plt.imshow(F0)\n",
    "plt.title('image f')\n",
    "plt.subplot(1,2,2)\n",
    "plt.imshow(G0)\n",
    "plt.title('image g')"
   ]
  },
  {
   "cell_type": "code",
   "execution_count": 186,
   "metadata": {
    "collapsed": false
   },
   "outputs": [],
   "source": [
    "n_transforms = 9\n",
    "\n",
    "def experiment(f, X, Y, h, var=0.01):\n",
    "    t = RandomEquiaffine()\n",
    "    F = t.forward_transform(f, X, Y)\n",
    "    W = rand_noise(X.shape, var=var)\n",
    "    sig = SA2transvectants(F + W, h)\n",
    "    S = [sig[0], sig[1], sig[2]]\n",
    "    return currents(S, 1), F + W\n",
    "    \n",
    "\n",
    "C1, im1 = [], []\n",
    "C2, im2 = [], []\n",
    "var = 0.0001\n",
    "for i in range(n_transforms):\n",
    "    C, img = experiment(f, X, Y, h, var=var)\n",
    "    C1.append(C)\n",
    "    im1.append(img)\n",
    "    C, img = experiment(f, X, Y, h, var=var)\n",
    "    C2.append(C)\n",
    "    im2.append(img)"
   ]
  },
  {
   "cell_type": "code",
   "execution_count": 182,
   "metadata": {
    "collapsed": false
   },
   "outputs": [
    {
     "data": {
      "image/png": "[encoded data removed]",
      "text/plain": [
       "<matplotlib.figure.Figure at 0x33bdcac8>"
      ]
     },
     "metadata": {},
     "output_type": "display_data"
    }
   ],
   "source": [
    "m, n = 3, 3\n",
    "for i in range(m):\n",
    "    for j in range(n):\n",
    "        plt.subplot(m, n, m*i+j + 1)\n",
    "        plt.imshow(im1[m*i+j])\n",
    "        "
   ]
  },
  {
   "cell_type": "markdown",
   "metadata": {
    "collapsed": false
   },
   "source": [
    "## Compare signatures of the two images\n",
    "We compare the signatures for a few contours (with respect to the function value)\n"
   ]
  },
  {
   "cell_type": "code",
   "execution_count": 192,
   "metadata": {
    "collapsed": false
   },
   "outputs": [
    {
     "name": "stdout",
     "output_type": "stream",
     "text": [
      "[ -1.37683052e+03   2.63512176e+07  -3.69970880e+02   1.67756352e+06\n",
      "   7.05856634e+11   1.52005261e+06   5.98171853e+07   1.46086557e+12\n",
      "   1.07171833e+07  -8.55674340e+02   1.66951467e+07  -1.72137586e+02]\n",
      "(12L, 12L)\n",
      "[[ -1.62244367e+12  -1.45498396e+07]\n",
      " [ -1.62241939e+12   1.45203250e+07]\n",
      " [ -1.62243894e+12  -4.90204794e+06]\n",
      " [ -1.62243322e+12   3.33502054e+06]\n",
      " [ -1.62242573e+12   2.26578122e+07]\n",
      " [ -1.62241655e+12   1.18830868e+07]\n",
      " [ -1.62243446e+12   3.55040193e+06]\n",
      " [ -1.62244469e+12  -2.64989175e+07]\n",
      " [ -1.62243026e+12   1.09659911e+07]\n",
      " [ -1.62244346e+12  -2.61726669e+07]\n",
      " [  2.75813851e+13  -1.56131220e+02]\n",
      " [ -1.62243812e+12  -3.48427554e+06]\n",
      " [ -1.62244371e+12  -6.66243607e+06]\n",
      " [ -1.62241079e+12   4.08171634e+07]\n",
      " [ -1.62245632e+12  -2.54980421e+07]\n",
      " [ -1.62245190e+12  -2.07996386e+07]\n",
      " [ -1.62244730e+12  -1.66374248e+07]\n",
      " [ -1.62240662e+12   3.74756442e+07]]\n"
     ]
    },
    {
     "data": {
      "image/png": "[encoded data removed]",
      "text/plain": [
       "<matplotlib.figure.Figure at 0x333631d0>"
      ]
     },
     "metadata": {},
     "output_type": "display_data"
    }
   ],
   "source": [
    "C1 = np.array(C1)\n",
    "C2 = np.array(C2)\n",
    "C = np.vstack((C1, C2))\n",
    "print np.mean(C, axis=0)\n",
    "C = C - np.mean(C, axis=0)\n",
    "from scipy.linalg import svd\n",
    "\n",
    "U, S, Vh = svd(C)\n",
    "print Vh.shape\n",
    "smeg = C.dot(Vh[0:2, :].T)\n",
    "plt.scatter(smeg[:,0], smeg[:,1])\n",
    "print smeg"
   ]
  },
  {
   "cell_type": "code",
   "execution_count": 190,
   "metadata": {
    "collapsed": false
   },
   "outputs": [
    {
     "name": "stdout",
     "output_type": "stream",
     "text": [
      "0.817925879679\n"
     ]
    },
    {
     "ename": "ValueError",
     "evalue": "too many values to unpack",
     "output_type": "error",
     "traceback": [
      "\u001b[1;31m---------------------------------------------------------------------------\u001b[0m",
      "\u001b[1;31mValueError\u001b[0m                                Traceback (most recent call last)",
      "\u001b[1;32m<ipython-input-190-e39f57612ff5>\u001b[0m in \u001b[0;36m<module>\u001b[1;34m()\u001b[0m\n\u001b[0;32m     23\u001b[0m \u001b[1;33m\u001b[0m\u001b[0m\n\u001b[0;32m     24\u001b[0m \u001b[1;32mprint\u001b[0m \u001b[0mS1\u001b[0m\u001b[1;33m[\u001b[0m\u001b[1;36m1\u001b[0m\u001b[1;33m]\u001b[0m\u001b[1;33m.\u001b[0m\u001b[0mmax\u001b[0m\u001b[1;33m(\u001b[0m\u001b[1;33m)\u001b[0m\u001b[1;33m\u001b[0m\u001b[0m\n\u001b[1;32m---> 25\u001b[1;33m \u001b[0mC0\u001b[0m\u001b[1;33m,\u001b[0m \u001b[0mxc0\u001b[0m \u001b[1;33m=\u001b[0m \u001b[0mcurrents\u001b[0m\u001b[1;33m(\u001b[0m\u001b[0mS0\u001b[0m\u001b[1;33m,\u001b[0m \u001b[1;36m1\u001b[0m\u001b[1;33m)\u001b[0m\u001b[1;33m\u001b[0m\u001b[0m\n\u001b[0m\u001b[0;32m     26\u001b[0m \u001b[0mC1\u001b[0m\u001b[1;33m,\u001b[0m \u001b[0mxc1\u001b[0m \u001b[1;33m=\u001b[0m \u001b[0mcurrents\u001b[0m\u001b[1;33m(\u001b[0m\u001b[0mS1\u001b[0m\u001b[1;33m,\u001b[0m \u001b[1;36m1\u001b[0m\u001b[1;33m)\u001b[0m\u001b[1;33m\u001b[0m\u001b[0m\n\u001b[0;32m     27\u001b[0m \u001b[1;33m\u001b[0m\u001b[0m\n",
      "\u001b[1;31mValueError\u001b[0m: too many values to unpack"
     ]
    }
   ],
   "source": [
    "%matplotlib inline\n",
    "sig0 = SA2transvectants(F0, h)\n",
    "sig1 = SA2transvectants(G0, h)\n",
    "contour_levels = [0.25, 0.5, 0.75, 1]\n",
    "\n",
    "i0 = 1\n",
    "i1 = 2\n",
    "\n",
    "\n",
    "S0 = [sig0[0], sig0[1], sig0[2]]\n",
    "S1 = [sig1[0], sig1[1], sig1[2]]\n",
    "\n",
    "\n",
    "# Rescale signatures (ish)\n",
    "for i in range(3):\n",
    "    s0 = S0[i]\n",
    "    s1 = S1[i]\n",
    "    maxval = max(s0.max(), s1.max())\n",
    "    minval = min(s0.min(), s1.min())\n",
    "    meanval = np.mean(np.array([s0.mean(), s1.mean()]))\n",
    "    S0[i] = (S0[i] - meanval) / (maxval - minval)\n",
    "    S1[i] = (S1[i] - meanval) / (maxval - minval)\n",
    "\n",
    "print S1[1].max()\n",
    "C0, xc0 = currents(S0, 1)\n",
    "C1, xc1 = currents(S1, 1)\n",
    "\n",
    "print xc0\n",
    "print xc1\n",
    "\n",
    "\n",
    "for level in contour_levels:\n",
    "    plt.figure()\n",
    "    plt.contour(sig0[i0], sig0[i1], sig0[0], levels=[level], colors='blue')\n",
    "    plt.contour(sig1[i0], sig1[i1], sig1[0], levels=[level], colors='red')\n",
    "    plt.xlabel('$I_1$')\n",
    "    plt.ylabel('$I_2$')\n",
    "    plt.title('$f = {}$'.format(level))"
   ]
  }
 ],
 "metadata": {
  "kernelspec": {
   "display_name": "Python [conda root]",
   "language": "python",
   "name": "conda-root-py"
  },
  "language_info": {
   "codemirror_mode": {
    "name": "ipython",
    "version": 3
   },
   "file_extension": ".py",
   "mimetype": "text/x-python",
   "name": "python",
   "nbconvert_exporter": "python",
   "pygments_lexer": "ipython3",
   "version": "3.5.2"
  }
 },
 "nbformat": 4,
 "nbformat_minor": 0
}
