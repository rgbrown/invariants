{
 "cells": [
  {
   "cell_type": "code",
   "execution_count": 6,
   "metadata": {
    "collapsed": false
   },
   "outputs": [],
   "source": [
    "from sympy import *\n",
    "from IPython.display import display\n",
    "init_printing()\n",
    "import numpy as np\n"
   ]
  },
  {
   "cell_type": "markdown",
   "metadata": {},
   "source": [
    "# Connection with projective invariants\n",
    "I want to understand how we can look at projective transformations as linear transformations in a one dimensionally higher space. \n",
    "\n",
    "So, start with a function of one variable\n",
    "\\begin{equation}\n",
    "    f(p)\n",
    "\\end{equation}\n",
    "We want to construct from this a function of two variables. Now, we have some choice here, possibly depending on the degree of derivatives that we want to use in our invariants. Currently going on a hunch\n",
    "\\begin{align*}\n",
    "    g(x, y) &= f\\left(\\frac{x}{y}\\right) \\\\\n",
    "    g(x, y) &= y f\\left(\\frac{x}{y}\\right) \\\\\n",
    "    g(x, y) &= y^2 f\\left(\\frac{x}{y}\\right)\n",
    "\\end{align*}\n",
    "etc"
   ]
  },
  {
   "cell_type": "code",
   "execution_count": 13,
   "metadata": {
    "collapsed": false
   },
   "outputs": [
    {
     "data": {
      "image/png": "[encoded data removed]",
      "text/latex": [
       "$$e^{- \\frac{x}{y}}$$"
      ],
      "text/plain": [
       " -x \n",
       " ───\n",
       "  y \n",
       "ℯ   "
      ]
     },
     "execution_count": 13,
     "metadata": {},
     "output_type": "execute_result"
    }
   ],
   "source": []
  },
  {
   "cell_type": "code",
   "execution_count": 120,
   "metadata": {
    "collapsed": false
   },
   "outputs": [
    {
     "data": {
      "text/plain": [
       "array([[ 6.378274  ,  0.05682866],\n",
       "       [ 8.28393826,  1.42746795]])"
      ]
     },
     "execution_count": 120,
     "metadata": {},
     "output_type": "execute_result"
    }
   ],
   "source": [
    "# Random transformation\n",
    "A = np.random.rand(2,2)\n",
    "A = A / np.linalg.det(A)\n",
    "A"
   ]
  },
  {
   "cell_type": "code",
   "execution_count": null,
   "metadata": {
    "collapsed": true
   },
   "outputs": [],
   "source": [
    "from sympy import binomial"
   ]
  },
  {
   "cell_type": "code",
   "execution_count": 85,
   "metadata": {
    "collapsed": false
   },
   "outputs": [],
   "source": [
    "f = Function('f')\n",
    "g = Function('g')\n",
    "x, y, z, w = symbols('x y z w')\n"
   ]
  },
  {
   "cell_type": "code",
   "execution_count": 103,
   "metadata": {
    "collapsed": false
   },
   "outputs": [],
   "source": [
    "class myfun:\n",
    "    def __init__(self, fun, n=None):\n",
    "        if n is None:\n",
    "            self.n = len(inspect.signature(fun).parameters)\n",
    "        else:\n",
    "            self.n = n\n",
    "        self.fun = fun\n",
    "    \n",
    "    def __call__(self, *args):\n",
    "        return self.fun(*args)\n",
    "        \n",
    "\n",
    "def otimes(f, g):\n",
    "    if not isinstance(f, myfun):\n",
    "        f = myfun(f)\n",
    "    if not isinstance(g, myfun):\n",
    "        g = myfun(g)\n",
    "        \n",
    "    def combine(*args):\n",
    "        return f(*args[0:f.n])*g(*args[f.n:f.n+g.n])\n",
    "    \n",
    "    return myfun(combine, f.n + g.n)\n",
    "\n",
    "def trace(f):\n",
    "    if not isinstance(f, myfun):\n",
    "        n = len(inspect.signature(f).parameters)\n",
    "    else:\n",
    "        n = f.n\n",
    "    print(n)\n",
    "    \n",
    "    x, y = symbols('x y')\n",
    "    def outfun(x, y):\n",
    "        args = []\n",
    "        print(n/2)\n",
    "        for k in range(int(n/2)):\n",
    "            args += [x, y]\n",
    "        return f(*args)\n",
    "    return myfun(outfun, 2)\n",
    "       "
   ]
  },
  {
   "cell_type": "code",
   "execution_count": 104,
   "metadata": {
    "collapsed": false
   },
   "outputs": [
    {
     "name": "stdout",
     "output_type": "stream",
     "text": [
      "4\n",
      "2.0\n"
     ]
    },
    {
     "data": {
      "image/png": "[encoded data removed]",
      "text/latex": [
       "$$f{\\left (x,y \\right )} g{\\left (x,y \\right )}$$"
      ],
      "text/plain": [
       "f(x, y)⋅g(x, y)"
      ]
     },
     "execution_count": 104,
     "metadata": {},
     "output_type": "execute_result"
    }
   ],
   "source": [
    "fn = myfun(f, 2)\n",
    "gn = myfun(g, 2)\n",
    "trace(otimes(fn, gn))(x, y)\n"
   ]
  },
  {
   "cell_type": "code",
   "execution_count": 56,
   "metadata": {
    "collapsed": false
   },
   "outputs": [],
   "source": [
    "# Following the development of Partial Transvectants in Classical Invariant Theory (Olver Chapter 5)\n",
    "\n",
    "# Basic object is a function of two variables\n",
    "# Can be multiplied together using otimes to make a function of \n",
    "from inspect import signature\n",
    "def otimes(fun_list):\n",
    "    \"\"\"\n",
    "    Input: list of n functions of two variables [f_1, f_2, ... , f_n]\n",
    "    Returns: function of 2n variables f1(x_1, y_1)*f2(x_2, y_2)* ... * fn(x_n, y_n)\n",
    "    \"\"\"\n",
    "    n = len(fun_list)\n",
    "    def out_fun(*args):\n",
    "        out = 1\n",
    "        for idx in range(n):\n",
    "            out *= fun_list[idx](args[2*idx], args[2*idx+1])\n",
    "        return(out)\n",
    "    \n",
    "    return out_fun\n",
    "\n",
    "def trace(fun):\n",
    "    n = len(signature(fun).parameters)\n",
    "    print(n)"
   ]
  },
  {
   "cell_type": "code",
   "execution_count": 57,
   "metadata": {
    "collapsed": false
   },
   "outputs": [
    {
     "name": "stdout",
     "output_type": "stream",
     "text": [
      "40320\n",
      "1\n"
     ]
    }
   ],
   "source": [
    "def foo(a, b):\n",
    "    return a*b\n",
    "\n",
    "f = otimes([foo for idx in range(4)])\n",
    "print(f(1, 2, 3, 4, 5, 6, 7, 8))\n",
    "trace(f)"
   ]
  },
  {
   "cell_type": "code",
   "execution_count": 17,
   "metadata": {
    "collapsed": true
   },
   "outputs": [],
   "source": [
    "# Set up the transvectant operation\n",
    "from sympy import binomial\n",
    "def transvectant(Q, R, r):\n",
    "    \"\"\"\n",
    "    Usage: transvectant(Q, R, r)\n",
    "        Q, R are functions of two variables\n",
    "        r is the transvectant degree\n",
    "        \n",
    "    Returns:\n",
    "        A function of two variables\n",
    "    \"\"\"\n",
    "    x, y = symbols('x y')\n",
    "    \n",
    "    t = 0\n",
    "    for i in range(r+1):\n",
    "        t += (-1)**i * (binomial(r, i) * \n",
    "                        diff(diff(Q(x, y), x, r - i), y, i) *\n",
    "                        diff(diff(R(x, y), x, i), y, r - i))\n",
    "    return lambda u, v: t.subs([(x, u), (y, v)])\n"
   ]
  },
  {
   "cell_type": "code",
   "execution_count": 9,
   "metadata": {
    "collapsed": false
   },
   "outputs": [
    {
     "data": {
      "image/png": "[encoded data removed]",
      "text/latex": [
       "$$\\frac{\\partial^{2}}{\\partial x^{2}}  f{\\left (x,y \\right )} \\frac{\\partial^{2}}{\\partial y^{2}}  g{\\left (x,y \\right )} - 2 \\frac{\\partial^{2}}{\\partial x\\partial y}  f{\\left (x,y \\right )} \\frac{\\partial^{2}}{\\partial x\\partial y}  g{\\left (x,y \\right )} + \\frac{\\partial^{2}}{\\partial y^{2}}  f{\\left (x,y \\right )} \\frac{\\partial^{2}}{\\partial x^{2}}  g{\\left (x,y \\right )}$$"
      ],
      "text/plain": [
       "  2            2                 2              2               2            2\n",
       " ∂            ∂                 ∂              ∂               ∂            ∂ \n",
       "───(f(x, y))⋅───(g(x, y)) - 2⋅─────(f(x, y))⋅─────(g(x, y)) + ───(f(x, y))⋅───\n",
       "  2            2              ∂y ∂x          ∂y ∂x              2            2\n",
       "∂x           ∂y                                               ∂y           ∂x \n",
       "\n",
       "         \n",
       "         \n",
       "(g(x, y))\n",
       "         \n",
       "         "
      ]
     },
     "execution_count": 9,
     "metadata": {},
     "output_type": "execute_result"
    }
   ],
   "source": [
    "transvectant(f, g, 2)(x, y)"
   ]
  },
  {
   "cell_type": "code",
   "execution_count": 44,
   "metadata": {
    "collapsed": false
   },
   "outputs": [],
   "source": [
    "x, y = symbols('x y')\n",
    "def fun(p):\n",
    "    return exp(-sin(p))\n",
    "\n",
    "a = 1\n",
    "b = 0\n",
    "c = 1\n",
    "d = 1\n",
    "def funbar(p):\n",
    "    return fun((a*p + b)/(c*p + d))\n",
    "def g(x, y):\n",
    "    return fun(x/y)\n",
    "def gbar(x, y):\n",
    "    return funbar(x/y)"
   ]
  },
  {
   "cell_type": "code",
   "execution_count": 70,
   "metadata": {
    "collapsed": false
   },
   "outputs": [
    {
     "data": {
      "image/png": "[encoded data removed]",
      "text/latex": [
       "$$- 2 \\left. \\frac{d}{d \\xi_{1}} f{\\left (\\xi_{1} \\right )} \\right|_{\\substack{ \\xi_{1}=x }}^{2}$$"
      ],
      "text/plain": [
       "                    2\n",
       "   ⎛ d        ⎞│     \n",
       "-2⋅⎜───(f(ξ₁))⎟│     \n",
       "   ⎝dξ₁       ⎠│ξ₁=x "
      ]
     },
     "execution_count": 70,
     "metadata": {},
     "output_type": "execute_result"
    }
   ],
   "source": [
    "f = Function('f')\n",
    "p = symbols('p')\n",
    "def g(x, y):\n",
    "    return f(x/y)\n",
    "def fbar(p):\n",
    "    return f((a*p + b)/(c*p + d))\n",
    "def gbar(x, y):\n",
    "    return y**y*fbar(x/y)\n",
    "simplify(transvectant(g, g, 2)(x, 1))"
   ]
  },
  {
   "cell_type": "code",
   "execution_count": 45,
   "metadata": {
    "collapsed": false
   },
   "outputs": [
    {
     "data": {
      "image/png": "[encoded data removed]",
      "text/latex": [
       "$$- 2 e^{- 2 \\sin{\\left (x \\right )}} \\cos^{2}{\\left (x \\right )}$$"
      ],
      "text/plain": [
       "    -2⋅sin(x)    2   \n",
       "-2⋅ℯ         ⋅cos (x)"
      ]
     },
     "metadata": {},
     "output_type": "display_data"
    },
    {
     "data": {
      "image/png": "[encoded data removed]",
      "text/latex": [
       "$$- \\frac{2 e^{- 2 \\sin{\\left (\\frac{x}{x + 1} \\right )}} \\cos^{2}{\\left (\\frac{x}{x + 1} \\right )}}{x^{4} + 4 x^{3} + 6 x^{2} + 4 x + 1}$$"
      ],
      "text/plain": [
       "          ⎛  x  ⎞             \n",
       "    -2⋅sin⎜─────⎟             \n",
       "          ⎝x + 1⎠    2⎛  x  ⎞ \n",
       "-2⋅ℯ             ⋅cos ⎜─────⎟ \n",
       "                      ⎝x + 1⎠ \n",
       "──────────────────────────────\n",
       "   4      3      2            \n",
       "  x  + 4⋅x  + 6⋅x  + 4⋅x + 1  "
      ]
     },
     "metadata": {},
     "output_type": "display_data"
    }
   ],
   "source": [
    "I0 = simplify(transvectant(g, g, 2)(x, 1)\n",
    "\n",
    "display(simplify(transvectant(g, g, 2)(x, 1)))\n",
    "display(simplify(transvectant(gbar, gbar, 2)(x, 1)))\n",
    "\n",
    "\n",
    "\n",
    "xx = np.linspace(-2, 2)\n"
   ]
  },
  {
   "cell_type": "code",
   "execution_count": 12,
   "metadata": {
    "collapsed": false
   },
   "outputs": [
    {
     "data": {
      "image/png": "[encoded data removed]",
      "text/latex": [
       "$$f^{2}{\\left (x,y \\right )}$$"
      ],
      "text/plain": [
       " 2      \n",
       "f (x, y)"
      ]
     },
     "metadata": {},
     "output_type": "display_data"
    },
    {
     "data": {
      "image/png": "[encoded data removed]",
      "text/latex": [
       "$$2 \\frac{\\partial^{2}}{\\partial x^{2}}  f{\\left (x,y \\right )} \\frac{\\partial^{2}}{\\partial y^{2}}  f{\\left (x,y \\right )} - 2 \\frac{\\partial^{2}}{\\partial x\\partial y}  f{\\left (x,y \\right )}^{2}$$"
      ],
      "text/plain": [
       "                                                2\n",
       "    2            2              ⎛   2          ⎞ \n",
       "   ∂            ∂               ⎜  ∂           ⎟ \n",
       "2⋅───(f(x, y))⋅───(f(x, y)) - 2⋅⎜─────(f(x, y))⎟ \n",
       "    2            2              ⎝∂y ∂x         ⎠ \n",
       "  ∂x           ∂y                                "
      ]
     },
     "metadata": {},
     "output_type": "display_data"
    },
    {
     "data": {
      "image/png": "[encoded data removed]",
      "text/latex": [
       "$$2 \\frac{\\partial^{4}}{\\partial x^{4}}  f{\\left (x,y \\right )} \\frac{\\partial^{4}}{\\partial y^{4}}  f{\\left (x,y \\right )} - 8 \\frac{\\partial^{4}}{\\partial x^{3}\\partial y}  f{\\left (x,y \\right )} \\frac{\\partial^{4}}{\\partial x\\partial y^{3}}  f{\\left (x,y \\right )} + 6 \\frac{\\partial^{4}}{\\partial x^{2}\\partial y^{2}}  f{\\left (x,y \\right )}^{2}$$"
      ],
      "text/plain": [
       "                                                                              \n",
       "    4            4                 4               4                ⎛    4    \n",
       "   ∂            ∂                 ∂               ∂                 ⎜   ∂     \n",
       "2⋅───(f(x, y))⋅───(f(x, y)) - 8⋅──────(f(x, y))⋅──────(f(x, y)) + 6⋅⎜───────(f\n",
       "    4            4                   3            3                 ⎜  2   2  \n",
       "  ∂x           ∂y               ∂y ∂x           ∂y  ∂x              ⎝∂y  ∂x   \n",
       "\n",
       "        2\n",
       "       ⎞ \n",
       "       ⎟ \n",
       "(x, y))⎟ \n",
       "       ⎟ \n",
       "       ⎠ "
      ]
     },
     "metadata": {},
     "output_type": "display_data"
    }
   ],
   "source": [
    "\n",
    "\n",
    "R_0 = transvectant(f, f, 0)\n",
    "R_1 = transvectant(f, f, 2)\n",
    "R_2 = transvectant(f, f, 4)\n",
    "QR1_0 = transvectant(f, R_0, 1)\n",
    "QR1_1 = transvectant(f, R_1, 1)\n",
    "\n",
    "display(R_0(x, y))\n",
    "display(R_1(x, y))\n",
    "display(R_2(x, y))\n",
    "#display(QR1_1(x, y))"
   ]
  }
 ],
 "metadata": {
  "anaconda-cloud": {},
  "kernelspec": {
   "display_name": "Python [default]",
   "language": "python",
   "name": "python3"
  },
  "language_info": {
   "codemirror_mode": {
    "name": "ipython",
    "version": 3
   },
   "file_extension": ".py",
   "mimetype": "text/x-python",
   "name": "python",
   "nbconvert_exporter": "python",
   "pygments_lexer": "ipython3",
   "version": "3.5.2"
  }
 },
 "nbformat": 4,
 "nbformat_minor": 1
}
